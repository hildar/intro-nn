{
 "cells": [
  {
   "cell_type": "markdown",
   "metadata": {
    "id": "zzyo25bnaP30"
   },
   "source": [
    "# Влияние функций активации на классификацию"
   ]
  },
  {
   "cell_type": "code",
   "execution_count": 46,
   "metadata": {
    "id": "H-56_nQzmpNs"
   },
   "outputs": [],
   "source": [
    "import numpy as np\n",
    "import matplotlib.pyplot as plt\n",
    "from matplotlib.colors import ListedColormap\n",
    "\n",
    "from tensorflow.keras.models import Sequential\n",
    "from tensorflow.keras.layers import Dense, Flatten\n",
    "import tensorflow as tf\n",
    "import random as python_random"
   ]
  },
  {
   "cell_type": "code",
   "execution_count": 2,
   "metadata": {
    "id": "-aduk7RG_bH1"
   },
   "outputs": [],
   "source": [
    "cmap_light = ListedColormap(['#FFAAAA', '#AAFFAA'])\n",
    "\n",
    "def classification_visualisation(xx, yy, classes):\n",
    "  classes = classes.reshape(xx.shape)\n",
    "  plt.figure()\n",
    "  plt.pcolormesh(xx, yy, classes, cmap=cmap_light)\n",
    "  plt.show()\n",
    "\n",
    "\n",
    "def seed_random(seed=123):\n",
    "  # The below is necessary for starting Numpy generated random numbers\n",
    "  # in a well-defined initial state.\n",
    "  np.random.seed(123)\n",
    "\n",
    "  # The below is necessary for starting core Python generated random numbers\n",
    "  # in a well-defined state.\n",
    "  python_random.seed(123)\n",
    "\n",
    "  # The below set_seed() will make random number generation\n",
    "  # in the TensorFlow backend have a well-defined initial state.\n",
    "  # For further details, see:\n",
    "  # https://www.tensorflow.org/api_docs/python/tf/random/set_seed\n",
    "  tf.random.set_seed(1234)"
   ]
  },
  {
   "cell_type": "code",
   "execution_count": 11,
   "metadata": {},
   "outputs": [
    {
     "data": {
      "text/plain": [
       "array([-2.        , -1.95959596, -1.91919192, -1.87878788, -1.83838384,\n",
       "       -1.7979798 , -1.75757576, -1.71717172, -1.67676768, -1.63636364,\n",
       "       -1.5959596 , -1.55555556, -1.51515152, -1.47474747, -1.43434343,\n",
       "       -1.39393939, -1.35353535, -1.31313131, -1.27272727, -1.23232323,\n",
       "       -1.19191919, -1.15151515, -1.11111111, -1.07070707, -1.03030303,\n",
       "       -0.98989899, -0.94949495, -0.90909091, -0.86868687, -0.82828283,\n",
       "       -0.78787879, -0.74747475, -0.70707071, -0.66666667, -0.62626263,\n",
       "       -0.58585859, -0.54545455, -0.50505051, -0.46464646, -0.42424242,\n",
       "       -0.38383838, -0.34343434, -0.3030303 , -0.26262626, -0.22222222,\n",
       "       -0.18181818, -0.14141414, -0.1010101 , -0.06060606, -0.02020202,\n",
       "        0.02020202,  0.06060606,  0.1010101 ,  0.14141414,  0.18181818,\n",
       "        0.22222222,  0.26262626,  0.3030303 ,  0.34343434,  0.38383838,\n",
       "        0.42424242,  0.46464646,  0.50505051,  0.54545455,  0.58585859,\n",
       "        0.62626263,  0.66666667,  0.70707071,  0.74747475,  0.78787879,\n",
       "        0.82828283,  0.86868687,  0.90909091,  0.94949495,  0.98989899,\n",
       "        1.03030303,  1.07070707,  1.11111111,  1.15151515,  1.19191919,\n",
       "        1.23232323,  1.27272727,  1.31313131,  1.35353535,  1.39393939,\n",
       "        1.43434343,  1.47474747,  1.51515152,  1.55555556,  1.5959596 ,\n",
       "        1.63636364,  1.67676768,  1.71717172,  1.75757576,  1.7979798 ,\n",
       "        1.83838384,  1.87878788,  1.91919192,  1.95959596,  2.        ])"
      ]
     },
     "execution_count": 11,
     "metadata": {},
     "output_type": "execute_result"
    }
   ],
   "source": [
    "np.linspace(-2, 2, 100)"
   ]
  },
  {
   "cell_type": "code",
   "execution_count": 12,
   "metadata": {},
   "outputs": [
    {
     "data": {
      "text/plain": [
       "(100,)"
      ]
     },
     "execution_count": 12,
     "metadata": {},
     "output_type": "execute_result"
    }
   ],
   "source": [
    "np.linspace(-2, 2, 100).shape"
   ]
  },
  {
   "cell_type": "code",
   "execution_count": 16,
   "metadata": {},
   "outputs": [
    {
     "data": {
      "text/plain": [
       "array([[-2.        , -1.95959596, -1.91919192, ...,  1.91919192,\n",
       "         1.95959596,  2.        ],\n",
       "       [-2.        , -1.95959596, -1.91919192, ...,  1.91919192,\n",
       "         1.95959596,  2.        ],\n",
       "       [-2.        , -1.95959596, -1.91919192, ...,  1.91919192,\n",
       "         1.95959596,  2.        ],\n",
       "       ...,\n",
       "       [-2.        , -1.95959596, -1.91919192, ...,  1.91919192,\n",
       "         1.95959596,  2.        ],\n",
       "       [-2.        , -1.95959596, -1.91919192, ...,  1.91919192,\n",
       "         1.95959596,  2.        ],\n",
       "       [-2.        , -1.95959596, -1.91919192, ...,  1.91919192,\n",
       "         1.95959596,  2.        ]])"
      ]
     },
     "execution_count": 16,
     "metadata": {},
     "output_type": "execute_result"
    }
   ],
   "source": [
    "np.meshgrid(np.linspace(-2, 2, 100), np.linspace(-2, 2, 100))[0]"
   ]
  },
  {
   "cell_type": "code",
   "execution_count": 15,
   "metadata": {},
   "outputs": [
    {
     "data": {
      "text/plain": [
       "array([[-2.        , -2.        , -2.        , ..., -2.        ,\n",
       "        -2.        , -2.        ],\n",
       "       [-1.95959596, -1.95959596, -1.95959596, ..., -1.95959596,\n",
       "        -1.95959596, -1.95959596],\n",
       "       [-1.91919192, -1.91919192, -1.91919192, ..., -1.91919192,\n",
       "        -1.91919192, -1.91919192],\n",
       "       ...,\n",
       "       [ 1.91919192,  1.91919192,  1.91919192, ...,  1.91919192,\n",
       "         1.91919192,  1.91919192],\n",
       "       [ 1.95959596,  1.95959596,  1.95959596, ...,  1.95959596,\n",
       "         1.95959596,  1.95959596],\n",
       "       [ 2.        ,  2.        ,  2.        , ...,  2.        ,\n",
       "         2.        ,  2.        ]])"
      ]
     },
     "execution_count": 15,
     "metadata": {},
     "output_type": "execute_result"
    }
   ],
   "source": [
    "np.meshgrid(np.linspace(-2, 2, 100), np.linspace(-2, 2, 100))[1]"
   ]
  },
  {
   "cell_type": "code",
   "execution_count": 17,
   "metadata": {
    "id": "2nUC_hWA_EnM"
   },
   "outputs": [],
   "source": [
    "# создание обучающих данных\n",
    "x1, x2 = np.meshgrid(np.linspace(-2, 2, 100),\n",
    "                     np.linspace(-2, 2, 100))\n",
    "train_X = np.c_[x1.ravel(), x2.ravel()]\n",
    "train_y = train_X[:, 1] > np.sin(train_X [:, 0]*6)"
   ]
  },
  {
   "cell_type": "code",
   "execution_count": 25,
   "metadata": {},
   "outputs": [
    {
     "data": {
      "text/plain": [
       "array([ 1.95959596,  2.        , -2.        , -1.95959596])"
      ]
     },
     "execution_count": 25,
     "metadata": {},
     "output_type": "execute_result"
    }
   ],
   "source": [
    "x1.ravel()[98:102]"
   ]
  },
  {
   "cell_type": "code",
   "execution_count": 23,
   "metadata": {},
   "outputs": [
    {
     "data": {
      "text/plain": [
       "array([-2.        , -2.        , -1.95959596, -1.95959596])"
      ]
     },
     "execution_count": 23,
     "metadata": {},
     "output_type": "execute_result"
    }
   ],
   "source": [
    "x2.ravel()[98:102]"
   ]
  },
  {
   "cell_type": "code",
   "execution_count": 26,
   "metadata": {},
   "outputs": [
    {
     "data": {
      "text/plain": [
       "array([[-2.        , -2.        ],\n",
       "       [-1.95959596, -2.        ],\n",
       "       [-1.91919192, -2.        ],\n",
       "       ...,\n",
       "       [ 1.91919192,  2.        ],\n",
       "       [ 1.95959596,  2.        ],\n",
       "       [ 2.        ,  2.        ]])"
      ]
     },
     "execution_count": 26,
     "metadata": {},
     "output_type": "execute_result"
    }
   ],
   "source": [
    "train_X"
   ]
  },
  {
   "cell_type": "code",
   "execution_count": 30,
   "metadata": {},
   "outputs": [
    {
     "data": {
      "text/plain": [
       "array([[ 1.95959596, -2.        ],\n",
       "       [ 2.        , -2.        ],\n",
       "       [-2.        , -1.95959596],\n",
       "       [-1.95959596, -1.95959596]])"
      ]
     },
     "execution_count": 30,
     "metadata": {},
     "output_type": "execute_result"
    }
   ],
   "source": [
    "train_X[98:102, :]"
   ]
  },
  {
   "cell_type": "code",
   "execution_count": 32,
   "metadata": {},
   "outputs": [
    {
     "data": {
      "text/plain": [
       "array([False, False, False, ...,  True,  True,  True])"
      ]
     },
     "execution_count": 32,
     "metadata": {},
     "output_type": "execute_result"
    }
   ],
   "source": [
    "train_y"
   ]
  },
  {
   "cell_type": "code",
   "execution_count": 33,
   "metadata": {},
   "outputs": [
    {
     "data": {
      "text/plain": [
       "array([False, False, False, False])"
      ]
     },
     "execution_count": 33,
     "metadata": {},
     "output_type": "execute_result"
    }
   ],
   "source": [
    "train_y[98:102]"
   ]
  },
  {
   "cell_type": "code",
   "execution_count": 34,
   "metadata": {
    "colab": {
     "base_uri": "https://localhost:8080/"
    },
    "id": "MLw4OqYZAuth",
    "outputId": "a107c7cd-8afa-4b7d-b49d-1a231b04be31"
   },
   "outputs": [
    {
     "data": {
      "text/plain": [
       "((10000, 2), (10000,))"
      ]
     },
     "execution_count": 34,
     "metadata": {},
     "output_type": "execute_result"
    }
   ],
   "source": [
    "train_X.shape, train_y.shape"
   ]
  },
  {
   "cell_type": "code",
   "execution_count": 35,
   "metadata": {},
   "outputs": [
    {
     "data": {
      "text/plain": [
       "array([2., 2.])"
      ]
     },
     "execution_count": 35,
     "metadata": {},
     "output_type": "execute_result"
    }
   ],
   "source": [
    "train_X[-1]"
   ]
  },
  {
   "cell_type": "code",
   "execution_count": 36,
   "metadata": {},
   "outputs": [
    {
     "data": {
      "text/plain": [
       "True"
      ]
     },
     "execution_count": 36,
     "metadata": {},
     "output_type": "execute_result"
    }
   ],
   "source": [
    "train_y[-1]"
   ]
  },
  {
   "cell_type": "code",
   "execution_count": 37,
   "metadata": {
    "colab": {
     "base_uri": "https://localhost:8080/",
     "height": 269
    },
    "id": "YmXMZISf_1vo",
    "outputId": "86e3f6cd-e7a2-4d68-90e9-88ba22c9dc38"
   },
   "outputs": [
    {
     "data": {
      "image/png": "[encoded data removed]",
      "text/plain": [
       "<Figure size 432x288 with 1 Axes>"
      ]
     },
     "metadata": {
      "needs_background": "light"
     },
     "output_type": "display_data"
    }
   ],
   "source": [
    "classification_visualisation(x1, x2, train_y)"
   ]
  },
  {
   "cell_type": "markdown",
   "metadata": {
    "id": "iwiPUePQAgvx"
   },
   "source": [
    "создаем какую-нибудь модель"
   ]
  },
  {
   "cell_type": "code",
   "execution_count": 38,
   "metadata": {
    "id": "vXbYJaYFCMN8"
   },
   "outputs": [],
   "source": [
    "def model_experiment(model, seed=123):\n",
    "  seed_random(seed)\n",
    "  model.compile(loss='mse', optimizer='Adam')\n",
    "  model.fit(train_X, train_y, epochs=50, batch_size=512, verbose=0)\n",
    "  classification_visualisation(x1, x2, model.predict(train_X))"
   ]
  },
  {
   "cell_type": "code",
   "execution_count": 39,
   "metadata": {
    "colab": {
     "base_uri": "https://localhost:8080/",
     "height": 269
    },
    "id": "hvvvaF1XAItd",
    "outputId": "2f62175d-3cdc-4175-a936-f10fa812e413"
   },
   "outputs": [
    {
     "name": "stderr",
     "output_type": "stream",
     "text": [
      "2022-07-01 16:14:14.708829: I tensorflow/core/platform/cpu_feature_guard.cc:193] This TensorFlow binary is optimized with oneAPI Deep Neural Network Library (oneDNN) to use the following CPU instructions in performance-critical operations:  AVX2 FMA\n",
      "To enable them in other operations, rebuild TensorFlow with the appropriate compiler flags.\n"
     ]
    },
    {
     "name": "stdout",
     "output_type": "stream",
     "text": [
      "313/313 [==============================] - 0s 732us/step\n"
     ]
    },
    {
     "data": {
      "image/png": "[encoded data removed]",
      "text/plain": [
       "<Figure size 432x288 with 1 Axes>"
      ]
     },
     "metadata": {
      "needs_background": "light"
     },
     "output_type": "display_data"
    }
   ],
   "source": [
    "model = Sequential([\n",
    "  Dense(1, activation='sigmoid', input_shape=(2,))\n",
    "])\n",
    "\n",
    "model_experiment(model)"
   ]
  },
  {
   "cell_type": "code",
   "execution_count": 40,
   "metadata": {
    "colab": {
     "base_uri": "https://localhost:8080/",
     "height": 269
    },
    "id": "Yj5BJgMbBOoy",
    "outputId": "09c40a03-9df0-4c8d-9f3a-6e30fc30ffa7"
   },
   "outputs": [
    {
     "name": "stdout",
     "output_type": "stream",
     "text": [
      "313/313 [==============================] - 0s 697us/step\n"
     ]
    },
    {
     "data": {
      "image/png": "[encoded data removed]",
      "text/plain": [
       "<Figure size 432x288 with 1 Axes>"
      ]
     },
     "metadata": {
      "needs_background": "light"
     },
     "output_type": "display_data"
    }
   ],
   "source": [
    "model = Sequential([\n",
    "  Dense(200, activation='relu', input_shape=(2,)), \n",
    "  Dense(1, activation='sigmoid')\n",
    "])\n",
    "\n",
    "model_experiment(model)"
   ]
  },
  {
   "cell_type": "code",
   "execution_count": 41,
   "metadata": {
    "colab": {
     "base_uri": "https://localhost:8080/",
     "height": 269
    },
    "id": "r_XnleXs6G_N",
    "outputId": "9532db06-9318-4376-95ea-24fc33535ab0"
   },
   "outputs": [
    {
     "name": "stdout",
     "output_type": "stream",
     "text": [
      "313/313 [==============================] - 0s 694us/step\n"
     ]
    },
    {
     "data": {
      "image/png": "[encoded data removed]",
      "text/plain": [
       "<Figure size 432x288 with 1 Axes>"
      ]
     },
     "metadata": {
      "needs_background": "light"
     },
     "output_type": "display_data"
    }
   ],
   "source": [
    "model = Sequential([\n",
    "  Dense(5, activation='relu', input_shape=(2,)), \n",
    "  Dense(20, activation='relu'),\n",
    "  Dense(20, activation='relu'),\n",
    "  Dense(20, activation='relu'),\n",
    "  Dense(1, activation='sigmoid')\n",
    "])\n",
    "\n",
    "model_experiment(model)"
   ]
  },
  {
   "cell_type": "code",
   "execution_count": 52,
   "metadata": {
    "colab": {
     "base_uri": "https://localhost:8080/",
     "height": 269
    },
    "id": "Fz6Zrxd9EVc2",
    "outputId": "7668f13d-c5a2-40f7-ef67-da3dcb4fe45a"
   },
   "outputs": [
    {
     "name": "stdout",
     "output_type": "stream",
     "text": [
      "313/313 [==============================] - 0s 665us/step\n"
     ]
    },
    {
     "data": {
      "image/png": "[encoded data removed]",
      "text/plain": [
       "<Figure size 432x288 with 1 Axes>"
      ]
     },
     "metadata": {
      "needs_background": "light"
     },
     "output_type": "display_data"
    }
   ],
   "source": [
    "model = Sequential([\n",
    "  Dense(5, activation='relu', input_shape=(2,)), \n",
    "  Dense(100, activation='relu'),\n",
    "  Dense(100, activation='relu'),\n",
    "  Dense(100, activation='relu'),\n",
    "  Dense(1, activation='sigmoid')\n",
    "])\n",
    "\n",
    "model_experiment(model)"
   ]
  },
  {
   "cell_type": "code",
   "execution_count": 47,
   "metadata": {
    "colab": {
     "base_uri": "https://localhost:8080/",
     "height": 269
    },
    "id": "Fz6Zrxd9EVc2",
    "outputId": "7668f13d-c5a2-40f7-ef67-da3dcb4fe45a"
   },
   "outputs": [
    {
     "name": "stdout",
     "output_type": "stream",
     "text": [
      "313/313 [==============================] - 0s 627us/step\n"
     ]
    },
    {
     "data": {
      "image/png": "[encoded data removed]",
      "text/plain": [
       "<Figure size 432x288 with 1 Axes>"
      ]
     },
     "metadata": {
      "needs_background": "light"
     },
     "output_type": "display_data"
    }
   ],
   "source": [
    "model = Sequential([\n",
    "  # Dense(5, activation='relu', input_shape=(2,)), \n",
    "  Flatten(),\n",
    "  Dense(100, activation='relu'),\n",
    "  Dense(100, activation='relu'),\n",
    "  Dense(100, activation='relu'),\n",
    "  Dense(1, activation='sigmoid')\n",
    "])\n",
    "\n",
    "model_experiment(model)"
   ]
  },
  {
   "cell_type": "markdown",
   "metadata": {},
   "source": [
    "кек"
   ]
  },
  {
   "cell_type": "code",
   "execution_count": 48,
   "metadata": {
    "colab": {
     "base_uri": "https://localhost:8080/",
     "height": 269
    },
    "id": "Wo9jZbNf6UFo",
    "outputId": "85a2cf55-b4bf-4d8a-c24c-da641a26a5ba"
   },
   "outputs": [
    {
     "name": "stdout",
     "output_type": "stream",
     "text": [
      "313/313 [==============================] - 0s 1ms/step\n"
     ]
    },
    {
     "data": {
      "image/png": "[encoded data removed]",
      "text/plain": [
       "<Figure size 432x288 with 1 Axes>"
      ]
     },
     "metadata": {
      "needs_background": "light"
     },
     "output_type": "display_data"
    }
   ],
   "source": [
    "model = Sequential([\n",
    "  Dense(5, activation='relu', input_shape=(2,)), \n",
    "  Dense(100, activation='relu'),\n",
    "  Dense(500, activation='relu'),\n",
    "  Dense(1000, activation='relu'),\n",
    "  Dense(1, activation='sigmoid')\n",
    "])\n",
    "\n",
    "model_experiment(model)"
   ]
  },
  {
   "cell_type": "code",
   "execution_count": 44,
   "metadata": {
    "colab": {
     "base_uri": "https://localhost:8080/",
     "height": 269
    },
    "id": "iV6zF3XbEXnP",
    "outputId": "438013ee-3d07-483c-b9e0-17816af1b417"
   },
   "outputs": [
    {
     "name": "stdout",
     "output_type": "stream",
     "text": [
      "313/313 [==============================] - 1s 2ms/step\n"
     ]
    },
    {
     "data": {
      "image/png": "[encoded data removed]",
      "text/plain": [
       "<Figure size 432x288 with 1 Axes>"
      ]
     },
     "metadata": {
      "needs_background": "light"
     },
     "output_type": "display_data"
    }
   ],
   "source": [
    "model = Sequential([\n",
    "  Dense(5, activation='relu', input_shape=(2,)), \n",
    "  Dense(500, activation='relu'),\n",
    "  Dense(500, activation='relu'),\n",
    "  Dense(500, activation='relu'),\n",
    "  Dense(500, activation='relu'),\n",
    "  Dense(1, activation='sigmoid')\n",
    "])\n",
    "\n",
    "model_experiment(model)"
   ]
  },
  {
   "cell_type": "markdown",
   "metadata": {},
   "source": [
    "# Смещение распределений во время обучения"
   ]
  },
  {
   "cell_type": "code",
   "execution_count": 53,
   "metadata": {},
   "outputs": [],
   "source": [
    "import numpy as np\n",
    "import matplotlib.pyplot as plt"
   ]
  },
  {
   "cell_type": "code",
   "execution_count": 54,
   "metadata": {},
   "outputs": [],
   "source": [
    "def sigmoid(x):\n",
    "    return 1 / (1 + np.exp(-x))\n",
    "\n",
    "\n",
    "def ReLU(x):\n",
    "    return x  *  (x  >  0)\n",
    "\n",
    "\n",
    "def tanh(x):\n",
    "    return (np.exp(x) - np.exp(-x))/(np.exp(x) + np.exp(-x))"
   ]
  },
  {
   "cell_type": "code",
   "execution_count": 62,
   "metadata": {},
   "outputs": [
    {
     "data": {
      "image/png": "[encoded data removed]",
      "text/plain": [
       "<Figure size 432x288 with 1 Axes>"
      ]
     },
     "metadata": {
      "needs_background": "light"
     },
     "output_type": "display_data"
    }
   ],
   "source": [
    "x = np.linspace(-5, 5, 100)\n",
    "\n",
    "fig, ax = plt.subplots()\n",
    "ax.plot(x, sigmoid(x), label='sigmoid')\n",
    "ax.plot(x, ReLU(x), label='ReLU')\n",
    "ax.plot(x, tanh(x), label='tanh')\n",
    "ax.set_ylim(-1, 1)\n",
    "ax.legend()\n",
    "plt.show()"
   ]
  },
  {
   "cell_type": "code",
   "execution_count": 63,
   "metadata": {},
   "outputs": [],
   "source": [
    "dist = np.random.normal(size=100000)"
   ]
  },
  {
   "cell_type": "code",
   "execution_count": 64,
   "metadata": {},
   "outputs": [
    {
     "data": {
      "image/png": "[encoded data removed]",
      "text/plain": [
       "<Figure size 1080x360 with 4 Axes>"
      ]
     },
     "metadata": {
      "needs_background": "light"
     },
     "output_type": "display_data"
    }
   ],
   "source": [
    "fig, axes = plt.subplots(1, 4, figsize=(15, 5))\n",
    "_ = axes[0].hist(dist, bins=100)\n",
    "_ = axes[1].hist(sigmoid(dist), bins=100)\n",
    "_ = axes[2].hist(ReLU(dist), bins=100)\n",
    "_ = axes[3].hist(tanh(dist), bins=100)"
   ]
  },
  {
   "cell_type": "code",
   "execution_count": 65,
   "metadata": {},
   "outputs": [],
   "source": [
    "def normalize(dist):\n",
    "    return 2 * (dist - np.mean(dist))/np.std(dist) + 4"
   ]
  },
  {
   "cell_type": "code",
   "execution_count": 66,
   "metadata": {},
   "outputs": [
    {
     "data": {
      "image/png": "[encoded data removed]",
      "text/plain": [
       "<Figure size 1080x360 with 4 Axes>"
      ]
     },
     "metadata": {
      "needs_background": "light"
     },
     "output_type": "display_data"
    }
   ],
   "source": [
    "fig, axes = plt.subplots(1, 4, figsize=(15, 5))\n",
    "_ = axes[0].hist(dist, bins=100)\n",
    "_ = axes[1].hist(normalize(sigmoid(dist)), bins=100)\n",
    "_ = axes[2].hist(normalize(ReLU(dist)), bins=100)\n",
    "_ = axes[3].hist(normalize(tanh(dist)), bins=100)"
   ]
  },
  {
   "cell_type": "markdown",
   "metadata": {
    "id": "5WYFjiMaJeKJ"
   },
   "source": [
    "# TensorFlow"
   ]
  },
  {
   "cell_type": "code",
   "execution_count": 67,
   "metadata": {
    "id": "g6pAIQAKimOR"
   },
   "outputs": [],
   "source": [
    "# !pip install tensorflow"
   ]
  },
  {
   "cell_type": "code",
   "execution_count": 68,
   "metadata": {
    "colab": {
     "base_uri": "https://localhost:8080/"
    },
    "id": "yw0u_939JgBE",
    "outputId": "4341c719-7d7b-4320-951f-7511f02487a7"
   },
   "outputs": [
    {
     "name": "stdout",
     "output_type": "stream",
     "text": [
      "2.9.1\n",
      "TensorFlow Hello World\n"
     ]
    }
   ],
   "source": [
    "import tensorflow as tf\n",
    "\n",
    "print(tf.__version__)\n",
    "msg = tf.constant('TensorFlow Hello World')\n",
    "tf.print(msg)"
   ]
  },
  {
   "cell_type": "code",
   "execution_count": 69,
   "metadata": {},
   "outputs": [
    {
     "data": {
      "text/plain": [
       "False"
      ]
     },
     "execution_count": 69,
     "metadata": {},
     "output_type": "execute_result"
    }
   ],
   "source": [
    "tf.test.is_built_with_cuda()"
   ]
  },
  {
   "cell_type": "code",
   "execution_count": 70,
   "metadata": {},
   "outputs": [
    {
     "data": {
      "text/plain": [
       "[PhysicalDevice(name='/physical_device:CPU:0', device_type='CPU')]"
      ]
     },
     "execution_count": 70,
     "metadata": {},
     "output_type": "execute_result"
    }
   ],
   "source": [
    "tf.config.list_physical_devices()"
   ]
  },
  {
   "cell_type": "code",
   "execution_count": 71,
   "metadata": {
    "colab": {
     "base_uri": "https://localhost:8080/"
    },
    "id": "B9YhGdstKQFS",
    "outputId": "01ff28a5-424b-4d89-b7ea-cac992789db3"
   },
   "outputs": [
    {
     "data": {
      "text/plain": [
       "<tf.Tensor: shape=(), dtype=string, numpy=b'TensorFlow Hello World'>"
      ]
     },
     "execution_count": 71,
     "metadata": {},
     "output_type": "execute_result"
    }
   ],
   "source": [
    "msg"
   ]
  },
  {
   "cell_type": "code",
   "execution_count": 72,
   "metadata": {
    "colab": {
     "base_uri": "https://localhost:8080/"
    },
    "id": "L_8SMovNEXyZ",
    "outputId": "30edcdaa-f9fe-4c12-cbdc-4a8095bf7b90"
   },
   "outputs": [
    {
     "name": "stdout",
     "output_type": "stream",
     "text": [
      "tf.Tensor(\n",
      "[[3 2]\n",
      " [5 2]], shape=(2, 2), dtype=int32)\n"
     ]
    }
   ],
   "source": [
    "# создание тензора\n",
    "\n",
    "A = tf.constant([[3, 2], \n",
    "                 [5, 2]], dtype='int32')\n",
    "\n",
    "print(A)\n"
   ]
  },
  {
   "cell_type": "code",
   "execution_count": 73,
   "metadata": {
    "colab": {
     "base_uri": "https://localhost:8080/"
    },
    "id": "MTOgp5WJKVtz",
    "outputId": "59acff63-91e1-4335-f7b5-a289ca461e7f"
   },
   "outputs": [
    {
     "data": {
      "text/plain": [
       "array([[3, 2],\n",
       "       [5, 2]], dtype=int32)"
      ]
     },
     "execution_count": 73,
     "metadata": {},
     "output_type": "execute_result"
    }
   ],
   "source": [
    "# перевод тензора в объект numpy\n",
    "\n",
    "A.numpy()"
   ]
  },
  {
   "cell_type": "code",
   "execution_count": 74,
   "metadata": {
    "colab": {
     "base_uri": "https://localhost:8080/"
    },
    "id": "-E8BXuj8EIh9",
    "outputId": "9268469b-3a09-49c4-9707-955c206241ac"
   },
   "outputs": [
    {
     "name": "stdout",
     "output_type": "stream",
     "text": [
      "[[3 2 9 5]\n",
      " [5 2 1 3]]\n"
     ]
    }
   ],
   "source": [
    "# конкатенация тензоров\n",
    "\n",
    "B = tf.constant([[9, 5], \n",
    "                 [1, 3]])\n",
    "\n",
    "AB = tf.concat(values=[A, B], axis=1)\n",
    "print(AB.numpy())\n"
   ]
  },
  {
   "cell_type": "code",
   "execution_count": 75,
   "metadata": {
    "colab": {
     "base_uri": "https://localhost:8080/"
    },
    "id": "QAJNHowsKwb2",
    "outputId": "52144b94-9eaf-46ce-a928-b075c20b609f"
   },
   "outputs": [
    {
     "name": "stdout",
     "output_type": "stream",
     "text": [
      "tf.Tensor(\n",
      "[[12  7]\n",
      " [ 6  5]], shape=(2, 2), dtype=int32)\n",
      "tf.Tensor(\n",
      "[[-6 -3]\n",
      " [ 4 -1]], shape=(2, 2), dtype=int32)\n"
     ]
    }
   ],
   "source": [
    "# сложение и вычитание тензоров\n",
    "AB_sum = A + B\n",
    "AB_dif = A - B\n",
    "\n",
    "print(AB_sum)\n",
    "print(AB_dif)"
   ]
  },
  {
   "cell_type": "code",
   "execution_count": 76,
   "metadata": {
    "colab": {
     "base_uri": "https://localhost:8080/"
    },
    "id": "9TamtjEmL0IX",
    "outputId": "75f8f313-b978-4e3c-bdd3-495efd1a66f5"
   },
   "outputs": [
    {
     "name": "stdout",
     "output_type": "stream",
     "text": [
      "BEFORE:\n",
      " [[3 2]\n",
      " [5 2]\n",
      " [9 5]\n",
      " [1 3]]\n",
      "AFTER:\n",
      " [[3 2 5 2 9 5 1 3]]\n"
     ]
    }
   ],
   "source": [
    "# изменение размерности\n",
    "\n",
    "tensor = tf.constant([[3, 2], \n",
    "                      [5, 2], \n",
    "                      [9, 5], \n",
    "                      [1, 3]])\n",
    "\n",
    "resh_tensor = tf.reshape(tensor = tensor, shape = [1, 8]) \n",
    "\n",
    "print(f'BEFORE:\\n {tensor.numpy()}')\n",
    "print(f'AFTER:\\n {resh_tensor.numpy()}')"
   ]
  },
  {
   "cell_type": "code",
   "execution_count": 79,
   "metadata": {
    "colab": {
     "base_uri": "https://localhost:8080/"
    },
    "id": "XJBLTPZtbgq7",
    "outputId": "fc2ac2a3-203a-465e-d0bd-f1db3d13671f"
   },
   "outputs": [
    {
     "data": {
      "text/plain": [
       "<tf.Tensor: shape=(1, 8), dtype=int32, numpy=array([[3, 2, 5, 2, 9, 5, 1, 3]], dtype=int32)>"
      ]
     },
     "execution_count": 79,
     "metadata": {},
     "output_type": "execute_result"
    }
   ],
   "source": [
    "resh_tensor"
   ]
  },
  {
   "cell_type": "code",
   "execution_count": 80,
   "metadata": {
    "colab": {
     "base_uri": "https://localhost:8080/"
    },
    "id": "u5kQpCWsMDYF",
    "outputId": "e5996ad0-7f6f-4f26-9ee8-f67ca54f3f6a"
   },
   "outputs": [
    {
     "name": "stdout",
     "output_type": "stream",
     "text": [
      "tf.Tensor(\n",
      "[[  15   35]\n",
      " [ 500 4500]], shape=(2, 2), dtype=int32)\n",
      "tf.Tensor(\n",
      "[[  15   35]\n",
      " [ 500 4500]], shape=(2, 2), dtype=int32)\n"
     ]
    }
   ],
   "source": [
    "# поэлементное перемножение матриц\n",
    "\n",
    "A = tf.constant([[3, 7], \n",
    "                 [1, 9]])\n",
    "\n",
    "\n",
    "B = tf.constant([[5, 5],\n",
    "                 [500, 500]])\n",
    "\n",
    "AB = tf.multiply(A, B)\n",
    "print(AB)\n",
    "\n",
    "print(A*B)"
   ]
  },
  {
   "cell_type": "code",
   "execution_count": 81,
   "metadata": {
    "colab": {
     "base_uri": "https://localhost:8080/"
    },
    "id": "yFJDM12aKocx",
    "outputId": "eb251188-64ec-4187-d071-70659cf37c12"
   },
   "outputs": [
    {
     "name": "stdout",
     "output_type": "stream",
     "text": [
      "tf.Tensor(\n",
      "[[3515 3515]\n",
      " [4505 4505]], shape=(2, 2), dtype=int32)\n",
      "tf.Tensor(\n",
      "[[3515 3515]\n",
      " [4505 4505]], shape=(2, 2), dtype=int32)\n"
     ]
    }
   ],
   "source": [
    "# матричное умножение \n",
    "\n",
    "A = tf.constant([[3, 7], \n",
    "                 [1, 9]])\n",
    "\n",
    "\n",
    "B = tf.constant([[5, 5],\n",
    "                 [500, 500]])\n",
    "\n",
    "AB = tf.matmul(A, B)\n",
    "print(AB)\n",
    "\n",
    "print(A@B)"
   ]
  },
  {
   "cell_type": "markdown",
   "metadata": {
    "id": "MLpCqlW1Fa48"
   },
   "source": [
    "# Fashion mnist"
   ]
  },
  {
   "cell_type": "code",
   "execution_count": 7,
   "metadata": {
    "colab": {
     "base_uri": "https://localhost:8080/"
    },
    "id": "ktx6FKiIMRq9",
    "outputId": "f49790d2-a703-45dd-9a5c-65e1765fe45e"
   },
   "outputs": [
    {
     "name": "stdout",
     "output_type": "stream",
     "text": [
      "2.9.1\n"
     ]
    }
   ],
   "source": [
    "# TensorFlow and tf.keras\n",
    "import tensorflow as tf\n",
    "from tensorflow import keras\n",
    "\n",
    "# Helper libraries\n",
    "import numpy as np\n",
    "import matplotlib.pyplot as plt\n",
    "\n",
    "print(tf.__version__)\n"
   ]
  },
  {
   "cell_type": "markdown",
   "metadata": {
    "id": "hqyztlf1Qftu"
   },
   "source": [
    "## Данные"
   ]
  },
  {
   "cell_type": "code",
   "execution_count": 9,
   "metadata": {
    "colab": {
     "base_uri": "https://localhost:8080/"
    },
    "id": "c0MddLcZMVpb",
    "outputId": "b3c241b9-0a6b-419d-a8cd-2069f9e0343c"
   },
   "outputs": [],
   "source": [
    "fashion_mnist = keras.datasets.fashion_mnist\n",
    "\n",
    "(train_images, train_labels), (test_images, test_labels) = fashion_mnist.load_data()"
   ]
  },
  {
   "cell_type": "code",
   "execution_count": 10,
   "metadata": {
    "id": "_CuPZVLLMdV0"
   },
   "outputs": [],
   "source": [
    "class_names = ['T-shirt/top', 'Trouser', 'Pullover', 'Dress', 'Coat',\n",
    "               'Sandal', 'Shirt', 'Sneaker', 'Bag', 'Ankle boot']"
   ]
  },
  {
   "cell_type": "code",
   "execution_count": 11,
   "metadata": {
    "colab": {
     "base_uri": "https://localhost:8080/"
    },
    "id": "q4lDFtAEMhLR",
    "outputId": "c5471388-bb29-4bcd-8e36-687ea2a5a7b2"
   },
   "outputs": [
    {
     "name": "stdout",
     "output_type": "stream",
     "text": [
      "(60000, 28, 28)\n",
      "60000\n",
      "[9 0 0 ... 3 0 5]\n"
     ]
    }
   ],
   "source": [
    "print(train_images.shape, len(train_labels), train_labels, sep='\\n')"
   ]
  },
  {
   "cell_type": "code",
   "execution_count": 12,
   "metadata": {
    "colab": {
     "base_uri": "https://localhost:8080/"
    },
    "id": "UMh3Wl9VMycl",
    "outputId": "1736dfbe-1e7c-4ce4-f73c-07e49e131dd3"
   },
   "outputs": [
    {
     "name": "stdout",
     "output_type": "stream",
     "text": [
      "(10000, 28, 28)\n",
      "10000\n",
      "[9 2 1 ... 8 1 5]\n"
     ]
    }
   ],
   "source": [
    "print(test_images.shape, len(test_labels), test_labels, sep='\\n')\n"
   ]
  },
  {
   "cell_type": "code",
   "execution_count": 13,
   "metadata": {
    "colab": {
     "base_uri": "https://localhost:8080/",
     "height": 265
    },
    "id": "XBqBomMxNiaR",
    "outputId": "f3115167-3011-4647-8a4a-fae823c52164"
   },
   "outputs": [
    {
     "data": {
      "image/png": "[encoded data removed]",
      "text/plain": [
       "<Figure size 432x288 with 2 Axes>"
      ]
     },
     "metadata": {
      "needs_background": "light"
     },
     "output_type": "display_data"
    }
   ],
   "source": [
    "plt.figure()\n",
    "plt.imshow(train_images[0])\n",
    "plt.colorbar()\n",
    "plt.grid(False)\n",
    "plt.show()\n"
   ]
  },
  {
   "cell_type": "code",
   "execution_count": 14,
   "metadata": {
    "id": "WAAJmk9INkv9"
   },
   "outputs": [],
   "source": [
    "train_images = train_images / 255.0\n",
    "\n",
    "test_images = test_images / 255.0\n"
   ]
  },
  {
   "cell_type": "code",
   "execution_count": 15,
   "metadata": {
    "colab": {
     "base_uri": "https://localhost:8080/",
     "height": 589
    },
    "id": "u-mIrrcUN0j6",
    "outputId": "d3e45c6a-9cf3-474d-ffc0-973059d5a41d"
   },
   "outputs": [
    {
     "data": {
      "image/png": "[encoded data removed]",
      "text/plain": [
       "<Figure size 720x720 with 25 Axes>"
      ]
     },
     "metadata": {},
     "output_type": "display_data"
    }
   ],
   "source": [
    "plt.figure(figsize=(10,10))\n",
    "for i in range(25):\n",
    "    plt.subplot(5,5,i+1)\n",
    "    plt.xticks([])\n",
    "    plt.yticks([])\n",
    "    plt.grid(False)\n",
    "    plt.imshow(train_images[i], cmap=plt.cm.binary)\n",
    "    plt.xlabel(class_names[train_labels[i]])\n",
    "plt.show()"
   ]
  },
  {
   "cell_type": "markdown",
   "metadata": {
    "id": "Ljjke5fcQkgS"
   },
   "source": [
    "## Обучение"
   ]
  },
  {
   "cell_type": "code",
   "execution_count": 16,
   "metadata": {},
   "outputs": [
    {
     "data": {
      "text/plain": [
       "'/Users/ildar/opt/anaconda3/bin/python'"
      ]
     },
     "execution_count": 16,
     "metadata": {},
     "output_type": "execute_result"
    }
   ],
   "source": [
    "import sys\n",
    "sys.executable"
   ]
  },
  {
   "cell_type": "code",
   "execution_count": 17,
   "metadata": {},
   "outputs": [],
   "source": [
    "# !python -m pip install pip --upgrade"
   ]
  },
  {
   "cell_type": "code",
   "execution_count": 18,
   "metadata": {},
   "outputs": [],
   "source": [
    "# !pip install graphviz"
   ]
  },
  {
   "cell_type": "code",
   "execution_count": 19,
   "metadata": {},
   "outputs": [],
   "source": [
    "# import graphviz"
   ]
  },
  {
   "cell_type": "code",
   "execution_count": 21,
   "metadata": {},
   "outputs": [],
   "source": [
    "model = keras.Sequential([\n",
    "    keras.layers.Flatten(input_shape=(28, 28)),\n",
    "    keras.layers.Dense(128, activation='relu', \n",
    "                       kernel_regularizer=tf.keras.regularizers.L2(l2=100),\n",
    "                       bias_regularizer=tf.keras.regularizers.L2(l2=0.5)),\n",
    "    keras.layers.Dropout(0.1),\n",
    "    keras.layers.BatchNormalization(),\n",
    "    keras.layers.Dense(64, activation='relu'),\n",
    "    keras.layers.BatchNormalization(),\n",
    "    keras.layers.Dense(10)\n",
    "])"
   ]
  },
  {
   "cell_type": "code",
   "execution_count": 22,
   "metadata": {},
   "outputs": [
    {
     "name": "stdout",
     "output_type": "stream",
     "text": [
      "Model: \"sequential_1\"\n",
      "_________________________________________________________________\n",
      " Layer (type)                Output Shape              Param #   \n",
      "=================================================================\n",
      " flatten_1 (Flatten)         (None, 784)               0         \n",
      "                                                                 \n",
      " dense_3 (Dense)             (None, 128)               100480    \n",
      "                                                                 \n",
      " dropout_1 (Dropout)         (None, 128)               0         \n",
      "                                                                 \n",
      " batch_normalization_2 (Batc  (None, 128)              512       \n",
      " hNormalization)                                                 \n",
      "                                                                 \n",
      " dense_4 (Dense)             (None, 64)                8256      \n",
      "                                                                 \n",
      " batch_normalization_3 (Batc  (None, 64)               256       \n",
      " hNormalization)                                                 \n",
      "                                                                 \n",
      " dense_5 (Dense)             (None, 10)                650       \n",
      "                                                                 \n",
      "=================================================================\n",
      "Total params: 110,154\n",
      "Trainable params: 109,770\n",
      "Non-trainable params: 384\n",
      "_________________________________________________________________\n"
     ]
    }
   ],
   "source": [
    "model.summary()"
   ]
  },
  {
   "cell_type": "code",
   "execution_count": 29,
   "metadata": {},
   "outputs": [
    {
     "data": {
      "text/plain": [
       "784"
      ]
     },
     "execution_count": 29,
     "metadata": {},
     "output_type": "execute_result"
    }
   ],
   "source": [
    "28 * 28"
   ]
  },
  {
   "cell_type": "code",
   "execution_count": 25,
   "metadata": {},
   "outputs": [],
   "source": [
    "from keras.utils.vis_utils import plot_model"
   ]
  },
  {
   "cell_type": "code",
   "execution_count": 28,
   "metadata": {},
   "outputs": [
    {
     "data": {
      "image/png": "[encoded data removed]",
      "text/plain": [
       "<IPython.core.display.Image object>"
      ]
     },
     "execution_count": 28,
     "metadata": {},
     "output_type": "execute_result"
    }
   ],
   "source": [
    "plot_model(model, show_shapes=True, show_layer_names=True)"
   ]
  },
  {
   "cell_type": "code",
   "execution_count": 30,
   "metadata": {},
   "outputs": [],
   "source": [
    "boundaries = [2000, 4000]\n",
    "values = [0.01, 0.005, 0.001]\n",
    "lr_schedule = keras.optimizers.schedules.PiecewiseConstantDecay(boundaries, values)\n",
    "optimizer = keras.optimizers.SGD(learning_rate=lr_schedule)\n",
    "\n",
    "model.compile(optimizer=tf.keras.optimizers.Adam(learning_rate=lr_schedule),\n",
    "              loss=tf.keras.losses.SparseCategoricalCrossentropy(from_logits=True),\n",
    "              metrics=['accuracy'])"
   ]
  },
  {
   "cell_type": "code",
   "execution_count": 31,
   "metadata": {},
   "outputs": [
    {
     "name": "stdout",
     "output_type": "stream",
     "text": [
      "Epoch 1/3\n",
      "1875/1875 - 3s - loss: 55.4031 - accuracy: 0.4559 - 3s/epoch - 2ms/step\n",
      "Epoch 2/3\n",
      "1875/1875 - 2s - loss: 7.4426 - accuracy: 0.4789 - 2s/epoch - 1ms/step\n",
      "Epoch 3/3\n",
      "1875/1875 - 3s - loss: 3.6132 - accuracy: 0.5584 - 3s/epoch - 2ms/step\n"
     ]
    }
   ],
   "source": [
    "hstr = model.fit(train_images, train_labels, epochs=3, verbose=2)"
   ]
  },
  {
   "cell_type": "code",
   "execution_count": 32,
   "metadata": {
    "id": "XsksRwKtN2U3"
   },
   "outputs": [],
   "source": [
    "model = keras.Sequential([\n",
    "    keras.layers.Flatten(input_shape=(28, 28)),\n",
    "    keras.layers.Dense(128, activation='relu'),\n",
    "    keras.layers.Dense(10)\n",
    "])\n",
    "\n",
    "model.compile(optimizer=tf.keras.optimizers.Adam(learning_rate=0.001),\n",
    "              loss=tf.keras.losses.SparseCategoricalCrossentropy(from_logits=True),\n",
    "              metrics=['accuracy'])\n"
   ]
  },
  {
   "cell_type": "code",
   "execution_count": 33,
   "metadata": {
    "colab": {
     "base_uri": "https://localhost:8080/"
    },
    "id": "oXFmnsS3OWMZ",
    "outputId": "6239e278-a5a1-4015-e331-a64784c056e2"
   },
   "outputs": [
    {
     "name": "stdout",
     "output_type": "stream",
     "text": [
      "Epoch 1/3\n",
      "1875/1875 [==============================] - 3s 1ms/step - loss: 0.4993 - accuracy: 0.8248\n",
      "Epoch 2/3\n",
      "1875/1875 [==============================] - 2s 1ms/step - loss: 0.3750 - accuracy: 0.8658\n",
      "Epoch 3/3\n",
      "1875/1875 [==============================] - 2s 1ms/step - loss: 0.3378 - accuracy: 0.8772\n"
     ]
    }
   ],
   "source": [
    "hstr = model.fit(train_images, train_labels, epochs=3, verbose=1)"
   ]
  },
  {
   "cell_type": "code",
   "execution_count": 34,
   "metadata": {
    "colab": {
     "base_uri": "https://localhost:8080/"
    },
    "id": "v2Drk5upNpVF",
    "outputId": "e7a90d10-0121-4ce4-9546-5aefaacfe679"
   },
   "outputs": [
    {
     "data": {
      "text/plain": [
       "{'verbose': 1, 'epochs': 3, 'steps': 1875}"
      ]
     },
     "execution_count": 34,
     "metadata": {},
     "output_type": "execute_result"
    }
   ],
   "source": [
    "hstr.params"
   ]
  },
  {
   "cell_type": "code",
   "execution_count": 35,
   "metadata": {
    "colab": {
     "base_uri": "https://localhost:8080/"
    },
    "id": "CLAnSjvgN65p",
    "outputId": "c658fa3b-ca46-44fe-a4d2-3520a27f65e9"
   },
   "outputs": [
    {
     "data": {
      "text/plain": [
       "{'loss': [0.4992852509021759, 0.37499892711639404, 0.33778050541877747],\n",
       " 'accuracy': [0.8247666954994202, 0.8657500147819519, 0.8772333264350891]}"
      ]
     },
     "execution_count": 35,
     "metadata": {},
     "output_type": "execute_result"
    }
   ],
   "source": [
    "hstr.history"
   ]
  },
  {
   "cell_type": "code",
   "execution_count": 36,
   "metadata": {
    "colab": {
     "base_uri": "https://localhost:8080/"
    },
    "id": "PsaUBMssN-KM",
    "outputId": "4f0e5abd-8234-4a13-db7a-8a2e4cd56f7e"
   },
   "outputs": [
    {
     "data": {
      "text/plain": [
       "<keras.engine.sequential.Sequential at 0x7f8a9d41dfa0>"
      ]
     },
     "execution_count": 36,
     "metadata": {},
     "output_type": "execute_result"
    }
   ],
   "source": [
    "hstr.model"
   ]
  },
  {
   "cell_type": "code",
   "execution_count": 37,
   "metadata": {
    "colab": {
     "base_uri": "https://localhost:8080/"
    },
    "id": "VZlsDEFYNiu7",
    "outputId": "2316cc0e-9f28-487a-b44d-ec9ab11a4584"
   },
   "outputs": [
    {
     "name": "stdout",
     "output_type": "stream",
     "text": [
      "Model: \"sequential_2\"\n",
      "_________________________________________________________________\n",
      " Layer (type)                Output Shape              Param #   \n",
      "=================================================================\n",
      " flatten_2 (Flatten)         (None, 784)               0         \n",
      "                                                                 \n",
      " dense_6 (Dense)             (None, 128)               100480    \n",
      "                                                                 \n",
      " dense_7 (Dense)             (None, 10)                1290      \n",
      "                                                                 \n",
      "=================================================================\n",
      "Total params: 101,770\n",
      "Trainable params: 101,770\n",
      "Non-trainable params: 0\n",
      "_________________________________________________________________\n"
     ]
    }
   ],
   "source": [
    "model.summary()"
   ]
  },
  {
   "cell_type": "code",
   "execution_count": 38,
   "metadata": {
    "colab": {
     "base_uri": "https://localhost:8080/",
     "height": 422
    },
    "id": "ZoJIwK3cOGDd",
    "outputId": "49dc9048-1848-4a8f-f106-977c3892427f"
   },
   "outputs": [
    {
     "data": {
      "image/png": "[encoded data removed]",
      "text/plain": [
       "<IPython.core.display.Image object>"
      ]
     },
     "execution_count": 38,
     "metadata": {},
     "output_type": "execute_result"
    }
   ],
   "source": [
    "# from keras.utils.vis_utils import plot_model\n",
    "\n",
    "plot_model(model, show_shapes=True, show_layer_names=True)"
   ]
  },
  {
   "cell_type": "markdown",
   "metadata": {
    "id": "p2gklU7qQoQX"
   },
   "source": [
    "## Результаты"
   ]
  },
  {
   "cell_type": "code",
   "execution_count": 39,
   "metadata": {
    "colab": {
     "base_uri": "https://localhost:8080/"
    },
    "id": "f-5-q07CfoYE",
    "outputId": "ac8a7a3e-08b0-4876-fd9b-f3bd77666883"
   },
   "outputs": [
    {
     "data": {
      "text/plain": [
       "array([9, 2, 1, ..., 8, 1, 5], dtype=uint8)"
      ]
     },
     "execution_count": 39,
     "metadata": {},
     "output_type": "execute_result"
    }
   ],
   "source": [
    "test_labels"
   ]
  },
  {
   "cell_type": "code",
   "execution_count": 40,
   "metadata": {
    "colab": {
     "base_uri": "https://localhost:8080/"
    },
    "id": "W3o6ExsifcCe",
    "outputId": "e3aed640-2e34-4364-af9e-75c8f3586a3c"
   },
   "outputs": [
    {
     "name": "stdout",
     "output_type": "stream",
     "text": [
      "313/313 [==============================] - 0s 844us/step\n"
     ]
    },
    {
     "data": {
      "text/plain": [
       "array([[ -6.2451787 , -10.113926  ,  -8.949446  , ...,   2.5449226 ,\n",
       "         -4.534203  ,   4.374203  ],\n",
       "       [ -0.72852343, -10.889138  ,   9.089064  , ..., -11.361326  ,\n",
       "         -4.595441  , -16.402363  ],\n",
       "       [  0.8199914 ,  12.427435  ,  -1.6740605 , ..., -10.576582  ,\n",
       "         -6.487289  ,  -9.975817  ],\n",
       "       ...,\n",
       "       [ -0.53023815, -12.687778  ,  -1.5530959 , ...,  -7.823908  ,\n",
       "          8.223891  , -12.733246  ],\n",
       "       [ -4.1454387 ,  10.719359  ,  -4.6178493 , ..., -10.277169  ,\n",
       "         -8.344298  ,  -4.276506  ],\n",
       "       [ -4.158185  ,  -9.329102  ,  -4.81744   , ...,   0.9832839 ,\n",
       "         -1.5425928 ,  -4.02198   ]], dtype=float32)"
      ]
     },
     "execution_count": 40,
     "metadata": {},
     "output_type": "execute_result"
    }
   ],
   "source": [
    "model.predict(test_images)"
   ]
  },
  {
   "cell_type": "code",
   "execution_count": 41,
   "metadata": {
    "id": "FU7QuaYMQvPh"
   },
   "outputs": [
    {
     "name": "stdout",
     "output_type": "stream",
     "text": [
      "313/313 [==============================] - 0s 982us/step\n"
     ]
    }
   ],
   "source": [
    "probability_model = tf.keras.Sequential([model, \n",
    "                                         tf.keras.layers.Softmax()])\n",
    "predictions = probability_model.predict(test_images)"
   ]
  },
  {
   "cell_type": "code",
   "execution_count": 42,
   "metadata": {
    "colab": {
     "base_uri": "https://localhost:8080/"
    },
    "id": "Vu_aPfC6QxtC",
    "outputId": "fd890fce-d227-4af4-aaf3-539894019ccf"
   },
   "outputs": [
    {
     "name": "stdout",
     "output_type": "stream",
     "text": [
      "[1.96200090e-05 4.09754591e-07 1.31295906e-06 8.48562593e-07\n",
      " 2.68879626e-06 6.81216791e-02 6.09436302e-06 1.28881827e-01\n",
      " 1.08584165e-04 8.02856922e-01]\n",
      "9\n",
      "9\n"
     ]
    }
   ],
   "source": [
    "print(predictions[0],\n",
    "      np.argmax(predictions[0]),\n",
    "      test_labels[0],\n",
    "      sep='\\n')"
   ]
  },
  {
   "cell_type": "markdown",
   "metadata": {
    "id": "uxn-qcO4QsBF"
   },
   "source": [
    "## Визуализация"
   ]
  },
  {
   "cell_type": "code",
   "execution_count": 43,
   "metadata": {
    "id": "bQhf3m1pOX0L"
   },
   "outputs": [],
   "source": [
    "def plot_image(i, predictions_array, true_label, img):\n",
    "  predictions_array, true_label, img = predictions_array, true_label[i], img[i]\n",
    "  plt.grid(False)\n",
    "  plt.xticks([])\n",
    "  plt.yticks([])\n",
    "\n",
    "  plt.imshow(img, cmap=plt.cm.binary)\n",
    "\n",
    "  predicted_label = np.argmax(predictions_array)\n",
    "  if predicted_label == true_label:\n",
    "    color = 'blue'\n",
    "  else:\n",
    "    color = 'red'\n",
    "\n",
    "  plt.xlabel(\"{} {:2.0f}% ({})\".format(class_names[predicted_label],\n",
    "                                100*np.max(predictions_array),\n",
    "                                class_names[true_label]),\n",
    "                                color=color)\n",
    "\n",
    "def plot_value_array(i, predictions_array, true_label):\n",
    "  predictions_array, true_label = predictions_array, true_label[i]\n",
    "  plt.grid(False)\n",
    "  plt.xticks(range(10))\n",
    "  plt.yticks([])\n",
    "  thisplot = plt.bar(range(10), predictions_array, color=\"#777777\")\n",
    "  plt.ylim([0, 1])\n",
    "  predicted_label = np.argmax(predictions_array)\n",
    "\n",
    "  thisplot[predicted_label].set_color('red')\n",
    "  thisplot[true_label].set_color('blue')"
   ]
  },
  {
   "cell_type": "code",
   "execution_count": 44,
   "metadata": {
    "colab": {
     "base_uri": "https://localhost:8080/",
     "height": 369
    },
    "id": "T-SBh6y8Q1gt",
    "outputId": "6ee91aef-f513-4029-b395-98cce377367a"
   },
   "outputs": [
    {
     "name": "stdout",
     "output_type": "stream",
     "text": [
      "(28, 28)\n",
      "(1, 28, 28)\n",
      "1/1 [==============================] - 0s 19ms/step\n",
      "[[5.2600211e-05 2.0336997e-09 9.6540982e-01 2.4670733e-06 5.7239858e-03\n",
      "  2.1203799e-09 2.8810035e-02 1.2682926e-09 1.1005417e-06 8.2020987e-12]]\n"
     ]
    },
    {
     "data": {
      "image/png": "[encoded data removed]",
      "text/plain": [
       "<Figure size 432x288 with 1 Axes>"
      ]
     },
     "metadata": {
      "needs_background": "light"
     },
     "output_type": "display_data"
    }
   ],
   "source": [
    "img = test_images[1]\n",
    "\n",
    "print(img.shape)\n",
    "# Add the image to a batch where it's the only member.\n",
    "img = (np.expand_dims(img,0))\n",
    "\n",
    "print(img.shape)\n",
    "predictions_single = probability_model.predict(img)\n",
    "\n",
    "print(predictions_single)\n",
    "plot_value_array(1, predictions_single[0], test_labels)\n",
    "_ = plt.xticks(range(10), class_names, rotation=45)"
   ]
  },
  {
   "cell_type": "code",
   "execution_count": 45,
   "metadata": {
    "colab": {
     "base_uri": "https://localhost:8080/",
     "height": 405
    },
    "id": "Z5MFn1yKP80l",
    "outputId": "a4370d1e-0031-4b5a-ba64-7105edc45757"
   },
   "outputs": [
    {
     "data": {
      "image/png": "[encoded data removed]",
      "text/plain": [
       "<Figure size 432x216 with 2 Axes>"
      ]
     },
     "metadata": {
      "needs_background": "light"
     },
     "output_type": "display_data"
    },
    {
     "data": {
      "image/png": "[encoded data removed]",
      "text/plain": [
       "<Figure size 432x216 with 2 Axes>"
      ]
     },
     "metadata": {
      "needs_background": "light"
     },
     "output_type": "display_data"
    }
   ],
   "source": [
    "i = 0\n",
    "plt.figure(figsize=(6,3))\n",
    "plt.subplot(1,2,1)\n",
    "plot_image(i, predictions[i], test_labels, test_images)\n",
    "plt.subplot(1,2,2)\n",
    "plot_value_array(i, predictions[i],  test_labels)\n",
    "plt.show()\n",
    "i = 12\n",
    "plt.figure(figsize=(6,3))\n",
    "plt.subplot(1,2,1)\n",
    "plot_image(i, predictions[i], test_labels, test_images)\n",
    "plt.subplot(1,2,2)\n",
    "plot_value_array(i, predictions[i],  test_labels)\n",
    "plt.show()\n"
   ]
  },
  {
   "cell_type": "code",
   "execution_count": null,
   "metadata": {
    "id": "Lk29ETFwgnnN"
   },
   "outputs": [],
   "source": []
  },
  {
   "cell_type": "code",
   "execution_count": 46,
   "metadata": {
    "colab": {
     "base_uri": "https://localhost:8080/",
     "height": 729
    },
    "id": "saNIEStMQES0",
    "outputId": "48d50bc3-f72d-44d9-a4d8-0f043cb6e944"
   },
   "outputs": [
    {
     "data": {
      "image/png": "[encoded data removed]",
      "text/plain": [
       "<Figure size 864x720 with 30 Axes>"
      ]
     },
     "metadata": {
      "needs_background": "light"
     },
     "output_type": "display_data"
    }
   ],
   "source": [
    "num_rows = 5\n",
    "num_cols = 3\n",
    "num_images = num_rows*num_cols\n",
    "plt.figure(figsize=(2*2*num_cols, 2*num_rows))\n",
    "for i in range(num_images):\n",
    "  plt.subplot(num_rows, 2*num_cols, 2*i+1)\n",
    "  plot_image(i, predictions[i], test_labels, test_images)\n",
    "  plt.subplot(num_rows, 2*num_cols, 2*i+2)\n",
    "  plot_value_array(i, predictions[i], test_labels)\n",
    "plt.tight_layout()\n",
    "plt.show()\n"
   ]
  },
  {
   "cell_type": "markdown",
   "metadata": {
    "id": "ycElwFj_RBys"
   },
   "source": [
    "# Домашнее задание"
   ]
  },
  {
   "cell_type": "markdown",
   "metadata": {
    "id": "M72ajz7tRQuN"
   },
   "source": [
    "# Датасет с винами"
   ]
  },
  {
   "cell_type": "markdown",
   "metadata": {
    "id": "089ZkMffRYu6"
   },
   "source": [
    "https://scikit-learn.org/stable/modules/generated/sklearn.datasets.load_wine.html#sklearn.datasets.load_wine"
   ]
  },
  {
   "cell_type": "code",
   "execution_count": 34,
   "metadata": {},
   "outputs": [],
   "source": [
    "import matplotlib.pyplot as plt\n",
    "from matplotlib.colors import ListedColormap\n",
    "\n",
    "from tensorflow.keras.models import Sequential\n",
    "from tensorflow.keras.layers import Dense, Flatten\n",
    "from tensorflow.keras.utils import to_categorical"
   ]
  },
  {
   "cell_type": "code",
   "execution_count": 113,
   "metadata": {
    "id": "SkW0cWmmQWEv"
   },
   "outputs": [],
   "source": [
    "from sklearn.datasets import load_wine\n",
    "from sklearn.model_selection import train_test_split\n",
    "from sklearn.preprocessing import StandardScaler\n",
    "import pandas as pd\n",
    "import numpy as np"
   ]
  },
  {
   "cell_type": "code",
   "execution_count": 3,
   "metadata": {
    "id": "yXhssEenSe8S"
   },
   "outputs": [],
   "source": [
    "data = load_wine()"
   ]
  },
  {
   "cell_type": "code",
   "execution_count": 7,
   "metadata": {
    "id": "F6E3WMc2Rl0y"
   },
   "outputs": [
    {
     "data": {
      "text/plain": [
       "((178, 13), (178,))"
      ]
     },
     "execution_count": 7,
     "metadata": {},
     "output_type": "execute_result"
    }
   ],
   "source": [
    "data.data.shape, data.target.shape"
   ]
  },
  {
   "cell_type": "code",
   "execution_count": 48,
   "metadata": {},
   "outputs": [],
   "source": [
    "# преобразование массива в необходимый вид\n",
    "def from_one_hot(Y):\n",
    "    arr = np.zeros((len(Y), 1))\n",
    "\n",
    "    for i in range(len(Y)):\n",
    "        l = layer2[i]\n",
    "        for j in range(len(l)):\n",
    "            if(l[j] == 1):\n",
    "                arr[i] = j+1\n",
    "    return arr"
   ]
  },
  {
   "cell_type": "code",
   "execution_count": 38,
   "metadata": {},
   "outputs": [
    {
     "data": {
      "text/html": [
       "<div>\n",
       "<style scoped>\n",
       "    .dataframe tbody tr th:only-of-type {\n",
       "        vertical-align: middle;\n",
       "    }\n",
       "\n",
       "    .dataframe tbody tr th {\n",
       "        vertical-align: top;\n",
       "    }\n",
       "\n",
       "    .dataframe thead th {\n",
       "        text-align: right;\n",
       "    }\n",
       "</style>\n",
       "<table border=\"1\" class=\"dataframe\">\n",
       "  <thead>\n",
       "    <tr style=\"text-align: right;\">\n",
       "      <th></th>\n",
       "      <th>class_0</th>\n",
       "      <th>class_1</th>\n",
       "      <th>class_2</th>\n",
       "    </tr>\n",
       "  </thead>\n",
       "  <tbody>\n",
       "    <tr>\n",
       "      <th>0</th>\n",
       "      <td>1.0</td>\n",
       "      <td>0.0</td>\n",
       "      <td>0.0</td>\n",
       "    </tr>\n",
       "    <tr>\n",
       "      <th>1</th>\n",
       "      <td>1.0</td>\n",
       "      <td>0.0</td>\n",
       "      <td>0.0</td>\n",
       "    </tr>\n",
       "    <tr>\n",
       "      <th>2</th>\n",
       "      <td>1.0</td>\n",
       "      <td>0.0</td>\n",
       "      <td>0.0</td>\n",
       "    </tr>\n",
       "    <tr>\n",
       "      <th>3</th>\n",
       "      <td>1.0</td>\n",
       "      <td>0.0</td>\n",
       "      <td>0.0</td>\n",
       "    </tr>\n",
       "    <tr>\n",
       "      <th>4</th>\n",
       "      <td>1.0</td>\n",
       "      <td>0.0</td>\n",
       "      <td>0.0</td>\n",
       "    </tr>\n",
       "    <tr>\n",
       "      <th>...</th>\n",
       "      <td>...</td>\n",
       "      <td>...</td>\n",
       "      <td>...</td>\n",
       "    </tr>\n",
       "    <tr>\n",
       "      <th>173</th>\n",
       "      <td>0.0</td>\n",
       "      <td>0.0</td>\n",
       "      <td>1.0</td>\n",
       "    </tr>\n",
       "    <tr>\n",
       "      <th>174</th>\n",
       "      <td>0.0</td>\n",
       "      <td>0.0</td>\n",
       "      <td>1.0</td>\n",
       "    </tr>\n",
       "    <tr>\n",
       "      <th>175</th>\n",
       "      <td>0.0</td>\n",
       "      <td>0.0</td>\n",
       "      <td>1.0</td>\n",
       "    </tr>\n",
       "    <tr>\n",
       "      <th>176</th>\n",
       "      <td>0.0</td>\n",
       "      <td>0.0</td>\n",
       "      <td>1.0</td>\n",
       "    </tr>\n",
       "    <tr>\n",
       "      <th>177</th>\n",
       "      <td>0.0</td>\n",
       "      <td>0.0</td>\n",
       "      <td>1.0</td>\n",
       "    </tr>\n",
       "  </tbody>\n",
       "</table>\n",
       "<p>178 rows × 3 columns</p>\n",
       "</div>"
      ],
      "text/plain": [
       "     class_0  class_1  class_2\n",
       "0        1.0      0.0      0.0\n",
       "1        1.0      0.0      0.0\n",
       "2        1.0      0.0      0.0\n",
       "3        1.0      0.0      0.0\n",
       "4        1.0      0.0      0.0\n",
       "..       ...      ...      ...\n",
       "173      0.0      0.0      1.0\n",
       "174      0.0      0.0      1.0\n",
       "175      0.0      0.0      1.0\n",
       "176      0.0      0.0      1.0\n",
       "177      0.0      0.0      1.0\n",
       "\n",
       "[178 rows x 3 columns]"
      ]
     },
     "execution_count": 38,
     "metadata": {},
     "output_type": "execute_result"
    }
   ],
   "source": [
    "pd.DataFrame(to_categorical(data.target), columns=data.target_names)"
   ]
  },
  {
   "cell_type": "code",
   "execution_count": 39,
   "metadata": {
    "id": "YZqtD7GFRsnQ"
   },
   "outputs": [],
   "source": [
    "X_train, X_test, y_train, y_test = train_test_split(pd.DataFrame(data.data, columns=data.feature_names), \n",
    "                                                    pd.DataFrame(to_categorical(data.target), columns=data.target_names), \n",
    "                                                    test_size=0.25, shuffle=True, random_state=0)"
   ]
  },
  {
   "cell_type": "markdown",
   "metadata": {},
   "source": [
    "## Посмотрим на данные"
   ]
  },
  {
   "cell_type": "code",
   "execution_count": 40,
   "metadata": {
    "id": "ZI_B1C6FSYFu"
   },
   "outputs": [
    {
     "data": {
      "text/plain": [
       "((133, 13), (45, 13), (133, 3), (45, 3))"
      ]
     },
     "execution_count": 40,
     "metadata": {},
     "output_type": "execute_result"
    }
   ],
   "source": [
    "X_train.shape, X_test.shape, y_train.shape, y_test.shape"
   ]
  },
  {
   "cell_type": "code",
   "execution_count": 41,
   "metadata": {},
   "outputs": [
    {
     "data": {
      "text/html": [
       "<div>\n",
       "<style scoped>\n",
       "    .dataframe tbody tr th:only-of-type {\n",
       "        vertical-align: middle;\n",
       "    }\n",
       "\n",
       "    .dataframe tbody tr th {\n",
       "        vertical-align: top;\n",
       "    }\n",
       "\n",
       "    .dataframe thead th {\n",
       "        text-align: right;\n",
       "    }\n",
       "</style>\n",
       "<table border=\"1\" class=\"dataframe\">\n",
       "  <thead>\n",
       "    <tr style=\"text-align: right;\">\n",
       "      <th></th>\n",
       "      <th>class_0</th>\n",
       "      <th>class_1</th>\n",
       "      <th>class_2</th>\n",
       "    </tr>\n",
       "  </thead>\n",
       "  <tbody>\n",
       "    <tr>\n",
       "      <th>19</th>\n",
       "      <td>1.0</td>\n",
       "      <td>0.0</td>\n",
       "      <td>0.0</td>\n",
       "    </tr>\n",
       "    <tr>\n",
       "      <th>135</th>\n",
       "      <td>0.0</td>\n",
       "      <td>0.0</td>\n",
       "      <td>1.0</td>\n",
       "    </tr>\n",
       "    <tr>\n",
       "      <th>74</th>\n",
       "      <td>0.0</td>\n",
       "      <td>1.0</td>\n",
       "      <td>0.0</td>\n",
       "    </tr>\n",
       "    <tr>\n",
       "      <th>144</th>\n",
       "      <td>0.0</td>\n",
       "      <td>0.0</td>\n",
       "      <td>1.0</td>\n",
       "    </tr>\n",
       "    <tr>\n",
       "      <th>16</th>\n",
       "      <td>1.0</td>\n",
       "      <td>0.0</td>\n",
       "      <td>0.0</td>\n",
       "    </tr>\n",
       "  </tbody>\n",
       "</table>\n",
       "</div>"
      ],
      "text/plain": [
       "     class_0  class_1  class_2\n",
       "19       1.0      0.0      0.0\n",
       "135      0.0      0.0      1.0\n",
       "74       0.0      1.0      0.0\n",
       "144      0.0      0.0      1.0\n",
       "16       1.0      0.0      0.0"
      ]
     },
     "execution_count": 41,
     "metadata": {},
     "output_type": "execute_result"
    }
   ],
   "source": [
    "y_train.head()"
   ]
  },
  {
   "cell_type": "code",
   "execution_count": 42,
   "metadata": {},
   "outputs": [
    {
     "data": {
      "image/png": "[encoded data removed]",
      "text/plain": [
       "<Figure size 432x288 with 1 Axes>"
      ]
     },
     "metadata": {
      "needs_background": "light"
     },
     "output_type": "display_data"
    }
   ],
   "source": [
    "_ = pd.DataFrame(data.target).hist()"
   ]
  },
  {
   "cell_type": "code",
   "execution_count": 43,
   "metadata": {},
   "outputs": [
    {
     "data": {
      "text/html": [
       "<div>\n",
       "<style scoped>\n",
       "    .dataframe tbody tr th:only-of-type {\n",
       "        vertical-align: middle;\n",
       "    }\n",
       "\n",
       "    .dataframe tbody tr th {\n",
       "        vertical-align: top;\n",
       "    }\n",
       "\n",
       "    .dataframe thead th {\n",
       "        text-align: right;\n",
       "    }\n",
       "</style>\n",
       "<table border=\"1\" class=\"dataframe\">\n",
       "  <thead>\n",
       "    <tr style=\"text-align: right;\">\n",
       "      <th></th>\n",
       "      <th>alcohol</th>\n",
       "      <th>malic_acid</th>\n",
       "      <th>ash</th>\n",
       "      <th>alcalinity_of_ash</th>\n",
       "      <th>magnesium</th>\n",
       "      <th>total_phenols</th>\n",
       "      <th>flavanoids</th>\n",
       "      <th>nonflavanoid_phenols</th>\n",
       "      <th>proanthocyanins</th>\n",
       "      <th>color_intensity</th>\n",
       "      <th>hue</th>\n",
       "      <th>od280/od315_of_diluted_wines</th>\n",
       "      <th>proline</th>\n",
       "    </tr>\n",
       "  </thead>\n",
       "  <tbody>\n",
       "    <tr>\n",
       "      <th>19</th>\n",
       "      <td>13.64</td>\n",
       "      <td>3.10</td>\n",
       "      <td>2.56</td>\n",
       "      <td>15.2</td>\n",
       "      <td>116.0</td>\n",
       "      <td>2.70</td>\n",
       "      <td>3.03</td>\n",
       "      <td>0.17</td>\n",
       "      <td>1.66</td>\n",
       "      <td>5.10</td>\n",
       "      <td>0.96</td>\n",
       "      <td>3.36</td>\n",
       "      <td>845.0</td>\n",
       "    </tr>\n",
       "    <tr>\n",
       "      <th>135</th>\n",
       "      <td>12.60</td>\n",
       "      <td>2.46</td>\n",
       "      <td>2.20</td>\n",
       "      <td>18.5</td>\n",
       "      <td>94.0</td>\n",
       "      <td>1.62</td>\n",
       "      <td>0.66</td>\n",
       "      <td>0.63</td>\n",
       "      <td>0.94</td>\n",
       "      <td>7.10</td>\n",
       "      <td>0.73</td>\n",
       "      <td>1.58</td>\n",
       "      <td>695.0</td>\n",
       "    </tr>\n",
       "    <tr>\n",
       "      <th>74</th>\n",
       "      <td>11.96</td>\n",
       "      <td>1.09</td>\n",
       "      <td>2.30</td>\n",
       "      <td>21.0</td>\n",
       "      <td>101.0</td>\n",
       "      <td>3.38</td>\n",
       "      <td>2.14</td>\n",
       "      <td>0.13</td>\n",
       "      <td>1.65</td>\n",
       "      <td>3.21</td>\n",
       "      <td>0.99</td>\n",
       "      <td>3.13</td>\n",
       "      <td>886.0</td>\n",
       "    </tr>\n",
       "    <tr>\n",
       "      <th>144</th>\n",
       "      <td>12.25</td>\n",
       "      <td>3.88</td>\n",
       "      <td>2.20</td>\n",
       "      <td>18.5</td>\n",
       "      <td>112.0</td>\n",
       "      <td>1.38</td>\n",
       "      <td>0.78</td>\n",
       "      <td>0.29</td>\n",
       "      <td>1.14</td>\n",
       "      <td>8.21</td>\n",
       "      <td>0.65</td>\n",
       "      <td>2.00</td>\n",
       "      <td>855.0</td>\n",
       "    </tr>\n",
       "    <tr>\n",
       "      <th>16</th>\n",
       "      <td>14.30</td>\n",
       "      <td>1.92</td>\n",
       "      <td>2.72</td>\n",
       "      <td>20.0</td>\n",
       "      <td>120.0</td>\n",
       "      <td>2.80</td>\n",
       "      <td>3.14</td>\n",
       "      <td>0.33</td>\n",
       "      <td>1.97</td>\n",
       "      <td>6.20</td>\n",
       "      <td>1.07</td>\n",
       "      <td>2.65</td>\n",
       "      <td>1280.0</td>\n",
       "    </tr>\n",
       "  </tbody>\n",
       "</table>\n",
       "</div>"
      ],
      "text/plain": [
       "     alcohol  malic_acid   ash  alcalinity_of_ash  magnesium  total_phenols  \\\n",
       "19     13.64        3.10  2.56               15.2      116.0           2.70   \n",
       "135    12.60        2.46  2.20               18.5       94.0           1.62   \n",
       "74     11.96        1.09  2.30               21.0      101.0           3.38   \n",
       "144    12.25        3.88  2.20               18.5      112.0           1.38   \n",
       "16     14.30        1.92  2.72               20.0      120.0           2.80   \n",
       "\n",
       "     flavanoids  nonflavanoid_phenols  proanthocyanins  color_intensity   hue  \\\n",
       "19         3.03                  0.17             1.66             5.10  0.96   \n",
       "135        0.66                  0.63             0.94             7.10  0.73   \n",
       "74         2.14                  0.13             1.65             3.21  0.99   \n",
       "144        0.78                  0.29             1.14             8.21  0.65   \n",
       "16         3.14                  0.33             1.97             6.20  1.07   \n",
       "\n",
       "     od280/od315_of_diluted_wines  proline  \n",
       "19                           3.36    845.0  \n",
       "135                          1.58    695.0  \n",
       "74                           3.13    886.0  \n",
       "144                          2.00    855.0  \n",
       "16                           2.65   1280.0  "
      ]
     },
     "execution_count": 43,
     "metadata": {},
     "output_type": "execute_result"
    }
   ],
   "source": [
    "X_train.head()"
   ]
  },
  {
   "cell_type": "code",
   "execution_count": 44,
   "metadata": {},
   "outputs": [
    {
     "name": "stdout",
     "output_type": "stream",
     "text": [
      "<class 'pandas.core.frame.DataFrame'>\n",
      "Int64Index: 133 entries, 19 to 172\n",
      "Data columns (total 13 columns):\n",
      " #   Column                        Non-Null Count  Dtype  \n",
      "---  ------                        --------------  -----  \n",
      " 0   alcohol                       133 non-null    float64\n",
      " 1   malic_acid                    133 non-null    float64\n",
      " 2   ash                           133 non-null    float64\n",
      " 3   alcalinity_of_ash             133 non-null    float64\n",
      " 4   magnesium                     133 non-null    float64\n",
      " 5   total_phenols                 133 non-null    float64\n",
      " 6   flavanoids                    133 non-null    float64\n",
      " 7   nonflavanoid_phenols          133 non-null    float64\n",
      " 8   proanthocyanins               133 non-null    float64\n",
      " 9   color_intensity               133 non-null    float64\n",
      " 10  hue                           133 non-null    float64\n",
      " 11  od280/od315_of_diluted_wines  133 non-null    float64\n",
      " 12  proline                       133 non-null    float64\n",
      "dtypes: float64(13)\n",
      "memory usage: 14.5 KB\n"
     ]
    }
   ],
   "source": [
    "X_train.info()"
   ]
  },
  {
   "cell_type": "code",
   "execution_count": 45,
   "metadata": {},
   "outputs": [
    {
     "data": {
      "text/html": [
       "<div>\n",
       "<style scoped>\n",
       "    .dataframe tbody tr th:only-of-type {\n",
       "        vertical-align: middle;\n",
       "    }\n",
       "\n",
       "    .dataframe tbody tr th {\n",
       "        vertical-align: top;\n",
       "    }\n",
       "\n",
       "    .dataframe thead th {\n",
       "        text-align: right;\n",
       "    }\n",
       "</style>\n",
       "<table border=\"1\" class=\"dataframe\">\n",
       "  <thead>\n",
       "    <tr style=\"text-align: right;\">\n",
       "      <th></th>\n",
       "      <th>alcohol</th>\n",
       "      <th>malic_acid</th>\n",
       "      <th>ash</th>\n",
       "      <th>alcalinity_of_ash</th>\n",
       "      <th>magnesium</th>\n",
       "      <th>total_phenols</th>\n",
       "      <th>flavanoids</th>\n",
       "      <th>nonflavanoid_phenols</th>\n",
       "      <th>proanthocyanins</th>\n",
       "      <th>color_intensity</th>\n",
       "      <th>hue</th>\n",
       "      <th>od280/od315_of_diluted_wines</th>\n",
       "      <th>proline</th>\n",
       "    </tr>\n",
       "  </thead>\n",
       "  <tbody>\n",
       "    <tr>\n",
       "      <th>count</th>\n",
       "      <td>133.000000</td>\n",
       "      <td>133.000000</td>\n",
       "      <td>133.000000</td>\n",
       "      <td>133.00000</td>\n",
       "      <td>133.000000</td>\n",
       "      <td>133.000000</td>\n",
       "      <td>133.000000</td>\n",
       "      <td>133.000000</td>\n",
       "      <td>133.000000</td>\n",
       "      <td>133.000000</td>\n",
       "      <td>133.000000</td>\n",
       "      <td>133.000000</td>\n",
       "      <td>133.000000</td>\n",
       "    </tr>\n",
       "    <tr>\n",
       "      <th>mean</th>\n",
       "      <td>12.999398</td>\n",
       "      <td>2.390977</td>\n",
       "      <td>2.365489</td>\n",
       "      <td>19.51203</td>\n",
       "      <td>100.458647</td>\n",
       "      <td>2.261579</td>\n",
       "      <td>1.956917</td>\n",
       "      <td>0.363985</td>\n",
       "      <td>1.609474</td>\n",
       "      <td>5.113083</td>\n",
       "      <td>0.947338</td>\n",
       "      <td>2.586015</td>\n",
       "      <td>749.812030</td>\n",
       "    </tr>\n",
       "    <tr>\n",
       "      <th>std</th>\n",
       "      <td>0.803811</td>\n",
       "      <td>1.122554</td>\n",
       "      <td>0.271995</td>\n",
       "      <td>3.52532</td>\n",
       "      <td>14.484846</td>\n",
       "      <td>0.613286</td>\n",
       "      <td>0.984769</td>\n",
       "      <td>0.127873</td>\n",
       "      <td>0.601056</td>\n",
       "      <td>2.405212</td>\n",
       "      <td>0.233392</td>\n",
       "      <td>0.725185</td>\n",
       "      <td>303.322165</td>\n",
       "    </tr>\n",
       "    <tr>\n",
       "      <th>min</th>\n",
       "      <td>11.030000</td>\n",
       "      <td>0.890000</td>\n",
       "      <td>1.360000</td>\n",
       "      <td>10.60000</td>\n",
       "      <td>70.000000</td>\n",
       "      <td>1.100000</td>\n",
       "      <td>0.470000</td>\n",
       "      <td>0.130000</td>\n",
       "      <td>0.420000</td>\n",
       "      <td>1.280000</td>\n",
       "      <td>0.540000</td>\n",
       "      <td>1.270000</td>\n",
       "      <td>312.000000</td>\n",
       "    </tr>\n",
       "    <tr>\n",
       "      <th>25%</th>\n",
       "      <td>12.370000</td>\n",
       "      <td>1.610000</td>\n",
       "      <td>2.210000</td>\n",
       "      <td>17.10000</td>\n",
       "      <td>89.000000</td>\n",
       "      <td>1.700000</td>\n",
       "      <td>1.020000</td>\n",
       "      <td>0.270000</td>\n",
       "      <td>1.150000</td>\n",
       "      <td>3.210000</td>\n",
       "      <td>0.770000</td>\n",
       "      <td>1.860000</td>\n",
       "      <td>515.000000</td>\n",
       "    </tr>\n",
       "    <tr>\n",
       "      <th>50%</th>\n",
       "      <td>13.050000</td>\n",
       "      <td>1.900000</td>\n",
       "      <td>2.360000</td>\n",
       "      <td>19.50000</td>\n",
       "      <td>98.000000</td>\n",
       "      <td>2.200000</td>\n",
       "      <td>2.040000</td>\n",
       "      <td>0.340000</td>\n",
       "      <td>1.560000</td>\n",
       "      <td>4.600000</td>\n",
       "      <td>0.950000</td>\n",
       "      <td>2.770000</td>\n",
       "      <td>675.000000</td>\n",
       "    </tr>\n",
       "    <tr>\n",
       "      <th>75%</th>\n",
       "      <td>13.640000</td>\n",
       "      <td>3.240000</td>\n",
       "      <td>2.560000</td>\n",
       "      <td>21.50000</td>\n",
       "      <td>107.000000</td>\n",
       "      <td>2.740000</td>\n",
       "      <td>2.790000</td>\n",
       "      <td>0.450000</td>\n",
       "      <td>1.960000</td>\n",
       "      <td>6.600000</td>\n",
       "      <td>1.110000</td>\n",
       "      <td>3.170000</td>\n",
       "      <td>985.000000</td>\n",
       "    </tr>\n",
       "    <tr>\n",
       "      <th>max</th>\n",
       "      <td>14.750000</td>\n",
       "      <td>5.650000</td>\n",
       "      <td>3.220000</td>\n",
       "      <td>30.00000</td>\n",
       "      <td>162.000000</td>\n",
       "      <td>3.880000</td>\n",
       "      <td>3.740000</td>\n",
       "      <td>0.660000</td>\n",
       "      <td>3.580000</td>\n",
       "      <td>13.000000</td>\n",
       "      <td>1.710000</td>\n",
       "      <td>4.000000</td>\n",
       "      <td>1547.000000</td>\n",
       "    </tr>\n",
       "  </tbody>\n",
       "</table>\n",
       "</div>"
      ],
      "text/plain": [
       "          alcohol  malic_acid         ash  alcalinity_of_ash   magnesium  \\\n",
       "count  133.000000  133.000000  133.000000          133.00000  133.000000   \n",
       "mean    12.999398    2.390977    2.365489           19.51203  100.458647   \n",
       "std      0.803811    1.122554    0.271995            3.52532   14.484846   \n",
       "min     11.030000    0.890000    1.360000           10.60000   70.000000   \n",
       "25%     12.370000    1.610000    2.210000           17.10000   89.000000   \n",
       "50%     13.050000    1.900000    2.360000           19.50000   98.000000   \n",
       "75%     13.640000    3.240000    2.560000           21.50000  107.000000   \n",
       "max     14.750000    5.650000    3.220000           30.00000  162.000000   \n",
       "\n",
       "       total_phenols  flavanoids  nonflavanoid_phenols  proanthocyanins  \\\n",
       "count     133.000000  133.000000            133.000000       133.000000   \n",
       "mean        2.261579    1.956917              0.363985         1.609474   \n",
       "std         0.613286    0.984769              0.127873         0.601056   \n",
       "min         1.100000    0.470000              0.130000         0.420000   \n",
       "25%         1.700000    1.020000              0.270000         1.150000   \n",
       "50%         2.200000    2.040000              0.340000         1.560000   \n",
       "75%         2.740000    2.790000              0.450000         1.960000   \n",
       "max         3.880000    3.740000              0.660000         3.580000   \n",
       "\n",
       "       color_intensity         hue  od280/od315_of_diluted_wines      proline  \n",
       "count       133.000000  133.000000                    133.000000   133.000000  \n",
       "mean          5.113083    0.947338                      2.586015   749.812030  \n",
       "std           2.405212    0.233392                      0.725185   303.322165  \n",
       "min           1.280000    0.540000                      1.270000   312.000000  \n",
       "25%           3.210000    0.770000                      1.860000   515.000000  \n",
       "50%           4.600000    0.950000                      2.770000   675.000000  \n",
       "75%           6.600000    1.110000                      3.170000   985.000000  \n",
       "max          13.000000    1.710000                      4.000000  1547.000000  "
      ]
     },
     "execution_count": 45,
     "metadata": {},
     "output_type": "execute_result"
    }
   ],
   "source": [
    "X_train.describe()"
   ]
  },
  {
   "cell_type": "markdown",
   "metadata": {},
   "source": [
    "Нужна будет стндартизация признаков"
   ]
  },
  {
   "cell_type": "code",
   "execution_count": 46,
   "metadata": {},
   "outputs": [
    {
     "data": {
      "image/png": "[encoded data removed]",
      "text/plain": [
       "<Figure size 1152x864 with 16 Axes>"
      ]
     },
     "metadata": {
      "needs_background": "light"
     },
     "output_type": "display_data"
    }
   ],
   "source": [
    "_ = X_train.hist(figsize=(16,12))"
   ]
  },
  {
   "cell_type": "markdown",
   "metadata": {},
   "source": [
    "Распределения в целом близки к нормальному. \n",
    "\n",
    "Можно еще попробовать прологарифмировать:"
   ]
  },
  {
   "cell_type": "code",
   "execution_count": 47,
   "metadata": {},
   "outputs": [
    {
     "data": {
      "image/png": "[encoded data removed]",
      "text/plain": [
       "<Figure size 1152x864 with 16 Axes>"
      ]
     },
     "metadata": {
      "needs_background": "light"
     },
     "output_type": "display_data"
    }
   ],
   "source": [
    "_ = X_train.apply(lambda x: np.log(x), axis=1).hist(figsize=(16,12))"
   ]
  },
  {
   "cell_type": "markdown",
   "metadata": {},
   "source": [
    "Вот теперь совсем нормальные распределения"
   ]
  },
  {
   "cell_type": "markdown",
   "metadata": {},
   "source": [
    "## Масштабируем признаки"
   ]
  },
  {
   "cell_type": "code",
   "execution_count": 115,
   "metadata": {},
   "outputs": [],
   "source": [
    "scaler = StandardScaler()"
   ]
  },
  {
   "cell_type": "code",
   "execution_count": 116,
   "metadata": {},
   "outputs": [
    {
     "data": {
      "text/plain": [
       "StandardScaler()"
      ]
     },
     "execution_count": 116,
     "metadata": {},
     "output_type": "execute_result"
    }
   ],
   "source": [
    "scaler.fit(X_train)"
   ]
  },
  {
   "cell_type": "code",
   "execution_count": 123,
   "metadata": {},
   "outputs": [],
   "source": [
    "X_train = pd.DataFrame(scaler.transform(X_train), columns=X_train.columns, index=X_train.index)"
   ]
  },
  {
   "cell_type": "code",
   "execution_count": 124,
   "metadata": {},
   "outputs": [],
   "source": [
    "X_test = pd.DataFrame(scaler.transform(X_test), columns=X_test.columns, index=X_test.index)"
   ]
  },
  {
   "cell_type": "code",
   "execution_count": 126,
   "metadata": {},
   "outputs": [
    {
     "data": {
      "text/html": [
       "<div>\n",
       "<style scoped>\n",
       "    .dataframe tbody tr th:only-of-type {\n",
       "        vertical-align: middle;\n",
       "    }\n",
       "\n",
       "    .dataframe tbody tr th {\n",
       "        vertical-align: top;\n",
       "    }\n",
       "\n",
       "    .dataframe thead th {\n",
       "        text-align: right;\n",
       "    }\n",
       "</style>\n",
       "<table border=\"1\" class=\"dataframe\">\n",
       "  <thead>\n",
       "    <tr style=\"text-align: right;\">\n",
       "      <th></th>\n",
       "      <th>alcohol</th>\n",
       "      <th>malic_acid</th>\n",
       "      <th>ash</th>\n",
       "      <th>alcalinity_of_ash</th>\n",
       "      <th>magnesium</th>\n",
       "      <th>total_phenols</th>\n",
       "      <th>flavanoids</th>\n",
       "      <th>nonflavanoid_phenols</th>\n",
       "      <th>proanthocyanins</th>\n",
       "      <th>color_intensity</th>\n",
       "      <th>hue</th>\n",
       "      <th>od280/od315_of_diluted_wines</th>\n",
       "      <th>proline</th>\n",
       "    </tr>\n",
       "  </thead>\n",
       "  <tbody>\n",
       "    <tr>\n",
       "      <th>count</th>\n",
       "      <td>1.330000e+02</td>\n",
       "      <td>1.330000e+02</td>\n",
       "      <td>1.330000e+02</td>\n",
       "      <td>1.330000e+02</td>\n",
       "      <td>1.330000e+02</td>\n",
       "      <td>1.330000e+02</td>\n",
       "      <td>1.330000e+02</td>\n",
       "      <td>1.330000e+02</td>\n",
       "      <td>1.330000e+02</td>\n",
       "      <td>1.330000e+02</td>\n",
       "      <td>1.330000e+02</td>\n",
       "      <td>1.330000e+02</td>\n",
       "      <td>1.330000e+02</td>\n",
       "    </tr>\n",
       "    <tr>\n",
       "      <th>mean</th>\n",
       "      <td>1.911587e-15</td>\n",
       "      <td>-1.386944e-15</td>\n",
       "      <td>-1.398213e-16</td>\n",
       "      <td>2.325834e-15</td>\n",
       "      <td>-3.330669e-16</td>\n",
       "      <td>-8.564578e-16</td>\n",
       "      <td>6.627948e-16</td>\n",
       "      <td>-1.162813e-15</td>\n",
       "      <td>6.711423e-16</td>\n",
       "      <td>-7.078715e-16</td>\n",
       "      <td>-7.078715e-16</td>\n",
       "      <td>5.559463e-16</td>\n",
       "      <td>-5.008525e-18</td>\n",
       "    </tr>\n",
       "    <tr>\n",
       "      <th>std</th>\n",
       "      <td>1.003781e+00</td>\n",
       "      <td>1.003781e+00</td>\n",
       "      <td>1.003781e+00</td>\n",
       "      <td>1.003781e+00</td>\n",
       "      <td>1.003781e+00</td>\n",
       "      <td>1.003781e+00</td>\n",
       "      <td>1.003781e+00</td>\n",
       "      <td>1.003781e+00</td>\n",
       "      <td>1.003781e+00</td>\n",
       "      <td>1.003781e+00</td>\n",
       "      <td>1.003781e+00</td>\n",
       "      <td>1.003781e+00</td>\n",
       "      <td>1.003781e+00</td>\n",
       "    </tr>\n",
       "    <tr>\n",
       "      <th>min</th>\n",
       "      <td>-2.459340e+00</td>\n",
       "      <td>-1.342165e+00</td>\n",
       "      <td>-3.710701e+00</td>\n",
       "      <td>-2.537563e+00</td>\n",
       "      <td>-2.110744e+00</td>\n",
       "      <td>-1.901186e+00</td>\n",
       "      <td>-1.515623e+00</td>\n",
       "      <td>-1.836746e+00</td>\n",
       "      <td>-1.986454e+00</td>\n",
       "      <td>-1.599682e+00</td>\n",
       "      <td>-1.751894e+00</td>\n",
       "      <td>-1.821590e+00</td>\n",
       "      <td>-1.448847e+00</td>\n",
       "    </tr>\n",
       "    <tr>\n",
       "      <th>25%</th>\n",
       "      <td>-7.859786e-01</td>\n",
       "      <td>-6.983452e-01</td>\n",
       "      <td>-5.738226e-01</td>\n",
       "      <td>-6.867884e-01</td>\n",
       "      <td>-7.940691e-01</td>\n",
       "      <td>-9.191508e-01</td>\n",
       "      <td>-9.550052e-01</td>\n",
       "      <td>-7.377674e-01</td>\n",
       "      <td>-7.673338e-01</td>\n",
       "      <td>-7.942244e-01</td>\n",
       "      <td>-7.627025e-01</td>\n",
       "      <td>-1.004929e+00</td>\n",
       "      <td>-7.770609e-01</td>\n",
       "    </tr>\n",
       "    <tr>\n",
       "      <th>50%</th>\n",
       "      <td>6.319001e-02</td>\n",
       "      <td>-4.390290e-01</td>\n",
       "      <td>-2.025583e-02</td>\n",
       "      <td>-3.425379e-03</td>\n",
       "      <td>-1.703810e-01</td>\n",
       "      <td>-1.007879e-01</td>\n",
       "      <td>8.468668e-02</td>\n",
       "      <td>-1.882782e-01</td>\n",
       "      <td>-8.262243e-02</td>\n",
       "      <td>-2.141277e-01</td>\n",
       "      <td>1.144733e-02</td>\n",
       "      <td>2.546667e-01</td>\n",
       "      <td>-2.475746e-01</td>\n",
       "    </tr>\n",
       "    <tr>\n",
       "      <th>75%</th>\n",
       "      <td>7.999687e-01</td>\n",
       "      <td>7.591908e-01</td>\n",
       "      <td>7.178332e-01</td>\n",
       "      <td>5.660438e-01</td>\n",
       "      <td>4.533072e-01</td>\n",
       "      <td>7.830441e-01</td>\n",
       "      <td>8.491660e-01</td>\n",
       "      <td>6.752047e-01</td>\n",
       "      <td>5.853887e-01</td>\n",
       "      <td>6.205437e-01</td>\n",
       "      <td>6.995805e-01</td>\n",
       "      <td>8.083352e-01</td>\n",
       "      <td>7.783050e-01</td>\n",
       "    </tr>\n",
       "    <tr>\n",
       "      <th>max</th>\n",
       "      <td>2.186112e+00</td>\n",
       "      <td>2.914198e+00</td>\n",
       "      <td>3.153527e+00</td>\n",
       "      <td>2.986288e+00</td>\n",
       "      <td>4.264735e+00</td>\n",
       "      <td>2.648912e+00</td>\n",
       "      <td>1.817507e+00</td>\n",
       "      <td>2.323672e+00</td>\n",
       "      <td>3.290834e+00</td>\n",
       "      <td>3.291492e+00</td>\n",
       "      <td>3.280080e+00</td>\n",
       "      <td>1.957197e+00</td>\n",
       "      <td>2.638125e+00</td>\n",
       "    </tr>\n",
       "  </tbody>\n",
       "</table>\n",
       "</div>"
      ],
      "text/plain": [
       "            alcohol    malic_acid           ash  alcalinity_of_ash  \\\n",
       "count  1.330000e+02  1.330000e+02  1.330000e+02       1.330000e+02   \n",
       "mean   1.911587e-15 -1.386944e-15 -1.398213e-16       2.325834e-15   \n",
       "std    1.003781e+00  1.003781e+00  1.003781e+00       1.003781e+00   \n",
       "min   -2.459340e+00 -1.342165e+00 -3.710701e+00      -2.537563e+00   \n",
       "25%   -7.859786e-01 -6.983452e-01 -5.738226e-01      -6.867884e-01   \n",
       "50%    6.319001e-02 -4.390290e-01 -2.025583e-02      -3.425379e-03   \n",
       "75%    7.999687e-01  7.591908e-01  7.178332e-01       5.660438e-01   \n",
       "max    2.186112e+00  2.914198e+00  3.153527e+00       2.986288e+00   \n",
       "\n",
       "          magnesium  total_phenols    flavanoids  nonflavanoid_phenols  \\\n",
       "count  1.330000e+02   1.330000e+02  1.330000e+02          1.330000e+02   \n",
       "mean  -3.330669e-16  -8.564578e-16  6.627948e-16         -1.162813e-15   \n",
       "std    1.003781e+00   1.003781e+00  1.003781e+00          1.003781e+00   \n",
       "min   -2.110744e+00  -1.901186e+00 -1.515623e+00         -1.836746e+00   \n",
       "25%   -7.940691e-01  -9.191508e-01 -9.550052e-01         -7.377674e-01   \n",
       "50%   -1.703810e-01  -1.007879e-01  8.468668e-02         -1.882782e-01   \n",
       "75%    4.533072e-01   7.830441e-01  8.491660e-01          6.752047e-01   \n",
       "max    4.264735e+00   2.648912e+00  1.817507e+00          2.323672e+00   \n",
       "\n",
       "       proanthocyanins  color_intensity           hue  \\\n",
       "count     1.330000e+02     1.330000e+02  1.330000e+02   \n",
       "mean      6.711423e-16    -7.078715e-16 -7.078715e-16   \n",
       "std       1.003781e+00     1.003781e+00  1.003781e+00   \n",
       "min      -1.986454e+00    -1.599682e+00 -1.751894e+00   \n",
       "25%      -7.673338e-01    -7.942244e-01 -7.627025e-01   \n",
       "50%      -8.262243e-02    -2.141277e-01  1.144733e-02   \n",
       "75%       5.853887e-01     6.205437e-01  6.995805e-01   \n",
       "max       3.290834e+00     3.291492e+00  3.280080e+00   \n",
       "\n",
       "       od280/od315_of_diluted_wines       proline  \n",
       "count                  1.330000e+02  1.330000e+02  \n",
       "mean                   5.559463e-16 -5.008525e-18  \n",
       "std                    1.003781e+00  1.003781e+00  \n",
       "min                   -1.821590e+00 -1.448847e+00  \n",
       "25%                   -1.004929e+00 -7.770609e-01  \n",
       "50%                    2.546667e-01 -2.475746e-01  \n",
       "75%                    8.083352e-01  7.783050e-01  \n",
       "max                    1.957197e+00  2.638125e+00  "
      ]
     },
     "execution_count": 126,
     "metadata": {},
     "output_type": "execute_result"
    }
   ],
   "source": [
    "X_train.describe()"
   ]
  },
  {
   "cell_type": "code",
   "execution_count": 127,
   "metadata": {},
   "outputs": [
    {
     "data": {
      "text/html": [
       "<div>\n",
       "<style scoped>\n",
       "    .dataframe tbody tr th:only-of-type {\n",
       "        vertical-align: middle;\n",
       "    }\n",
       "\n",
       "    .dataframe tbody tr th {\n",
       "        vertical-align: top;\n",
       "    }\n",
       "\n",
       "    .dataframe thead th {\n",
       "        text-align: right;\n",
       "    }\n",
       "</style>\n",
       "<table border=\"1\" class=\"dataframe\">\n",
       "  <thead>\n",
       "    <tr style=\"text-align: right;\">\n",
       "      <th></th>\n",
       "      <th>alcohol</th>\n",
       "      <th>malic_acid</th>\n",
       "      <th>ash</th>\n",
       "      <th>alcalinity_of_ash</th>\n",
       "      <th>magnesium</th>\n",
       "      <th>total_phenols</th>\n",
       "      <th>flavanoids</th>\n",
       "      <th>nonflavanoid_phenols</th>\n",
       "      <th>proanthocyanins</th>\n",
       "      <th>color_intensity</th>\n",
       "      <th>hue</th>\n",
       "      <th>od280/od315_of_diluted_wines</th>\n",
       "      <th>proline</th>\n",
       "    </tr>\n",
       "  </thead>\n",
       "  <tbody>\n",
       "    <tr>\n",
       "      <th>count</th>\n",
       "      <td>45.000000</td>\n",
       "      <td>45.000000</td>\n",
       "      <td>45.000000</td>\n",
       "      <td>45.000000</td>\n",
       "      <td>45.000000</td>\n",
       "      <td>45.000000</td>\n",
       "      <td>45.000000</td>\n",
       "      <td>45.000000</td>\n",
       "      <td>45.000000</td>\n",
       "      <td>45.000000</td>\n",
       "      <td>45.000000</td>\n",
       "      <td>45.000000</td>\n",
       "      <td>45.000000</td>\n",
       "    </tr>\n",
       "    <tr>\n",
       "      <th>mean</th>\n",
       "      <td>0.006024</td>\n",
       "      <td>-0.193225</td>\n",
       "      <td>0.015008</td>\n",
       "      <td>-0.019244</td>\n",
       "      <td>-0.196560</td>\n",
       "      <td>0.217101</td>\n",
       "      <td>0.291719</td>\n",
       "      <td>-0.066170</td>\n",
       "      <td>-0.122703</td>\n",
       "      <td>-0.090782</td>\n",
       "      <td>0.172012</td>\n",
       "      <td>0.140549</td>\n",
       "      <td>-0.038207</td>\n",
       "    </tr>\n",
       "    <tr>\n",
       "      <th>std</th>\n",
       "      <td>1.054367</td>\n",
       "      <td>0.981319</td>\n",
       "      <td>1.049109</td>\n",
       "      <td>0.783774</td>\n",
       "      <td>0.942597</td>\n",
       "      <td>1.078075</td>\n",
       "      <td>1.040316</td>\n",
       "      <td>0.901809</td>\n",
       "      <td>0.800730</td>\n",
       "      <td>0.858197</td>\n",
       "      <td>0.917692</td>\n",
       "      <td>0.920491</td>\n",
       "      <td>1.159696</td>\n",
       "    </tr>\n",
       "    <tr>\n",
       "      <th>min</th>\n",
       "      <td>-1.984805</td>\n",
       "      <td>-1.476294</td>\n",
       "      <td>-2.455949</td>\n",
       "      <td>-1.569466</td>\n",
       "      <td>-1.556355</td>\n",
       "      <td>-2.097593</td>\n",
       "      <td>-1.648133</td>\n",
       "      <td>-1.522752</td>\n",
       "      <td>-2.003154</td>\n",
       "      <td>-1.299201</td>\n",
       "      <td>-2.009944</td>\n",
       "      <td>-1.738540</td>\n",
       "      <td>-1.561362</td>\n",
       "    </tr>\n",
       "    <tr>\n",
       "      <th>25%</th>\n",
       "      <td>-0.798466</td>\n",
       "      <td>-0.769881</td>\n",
       "      <td>-0.721440</td>\n",
       "      <td>-0.544421</td>\n",
       "      <td>-0.863368</td>\n",
       "      <td>-0.755478</td>\n",
       "      <td>-0.506511</td>\n",
       "      <td>-0.659269</td>\n",
       "      <td>-0.583631</td>\n",
       "      <td>-0.777531</td>\n",
       "      <td>-0.289611</td>\n",
       "      <td>-0.437419</td>\n",
       "      <td>-0.892886</td>\n",
       "    </tr>\n",
       "    <tr>\n",
       "      <th>50%</th>\n",
       "      <td>0.063190</td>\n",
       "      <td>-0.564216</td>\n",
       "      <td>-0.167874</td>\n",
       "      <td>-0.003425</td>\n",
       "      <td>-0.308978</td>\n",
       "      <td>0.357495</td>\n",
       "      <td>0.319127</td>\n",
       "      <td>-0.345275</td>\n",
       "      <td>-0.116023</td>\n",
       "      <td>-0.088927</td>\n",
       "      <td>0.398522</td>\n",
       "      <td>0.351559</td>\n",
       "      <td>-0.297214</td>\n",
       "    </tr>\n",
       "    <tr>\n",
       "      <th>75%</th>\n",
       "      <td>0.912359</td>\n",
       "      <td>0.177965</td>\n",
       "      <td>0.644024</td>\n",
       "      <td>0.423677</td>\n",
       "      <td>0.453307</td>\n",
       "      <td>1.126757</td>\n",
       "      <td>1.042834</td>\n",
       "      <td>0.439709</td>\n",
       "      <td>0.435086</td>\n",
       "      <td>0.307542</td>\n",
       "      <td>0.742589</td>\n",
       "      <td>0.822177</td>\n",
       "      <td>0.976862</td>\n",
       "    </tr>\n",
       "    <tr>\n",
       "      <th>max</th>\n",
       "      <td>2.286014</td>\n",
       "      <td>3.048327</td>\n",
       "      <td>3.190431</td>\n",
       "      <td>2.559186</td>\n",
       "      <td>2.185774</td>\n",
       "      <td>2.059690</td>\n",
       "      <td>3.183376</td>\n",
       "      <td>2.088177</td>\n",
       "      <td>1.403702</td>\n",
       "      <td>2.373354</td>\n",
       "      <td>1.860805</td>\n",
       "      <td>1.708046</td>\n",
       "      <td>3.078261</td>\n",
       "    </tr>\n",
       "  </tbody>\n",
       "</table>\n",
       "</div>"
      ],
      "text/plain": [
       "         alcohol  malic_acid        ash  alcalinity_of_ash  magnesium  \\\n",
       "count  45.000000   45.000000  45.000000          45.000000  45.000000   \n",
       "mean    0.006024   -0.193225   0.015008          -0.019244  -0.196560   \n",
       "std     1.054367    0.981319   1.049109           0.783774   0.942597   \n",
       "min    -1.984805   -1.476294  -2.455949          -1.569466  -1.556355   \n",
       "25%    -0.798466   -0.769881  -0.721440          -0.544421  -0.863368   \n",
       "50%     0.063190   -0.564216  -0.167874          -0.003425  -0.308978   \n",
       "75%     0.912359    0.177965   0.644024           0.423677   0.453307   \n",
       "max     2.286014    3.048327   3.190431           2.559186   2.185774   \n",
       "\n",
       "       total_phenols  flavanoids  nonflavanoid_phenols  proanthocyanins  \\\n",
       "count      45.000000   45.000000             45.000000        45.000000   \n",
       "mean        0.217101    0.291719             -0.066170        -0.122703   \n",
       "std         1.078075    1.040316              0.901809         0.800730   \n",
       "min        -2.097593   -1.648133             -1.522752        -2.003154   \n",
       "25%        -0.755478   -0.506511             -0.659269        -0.583631   \n",
       "50%         0.357495    0.319127             -0.345275        -0.116023   \n",
       "75%         1.126757    1.042834              0.439709         0.435086   \n",
       "max         2.059690    3.183376              2.088177         1.403702   \n",
       "\n",
       "       color_intensity        hue  od280/od315_of_diluted_wines    proline  \n",
       "count        45.000000  45.000000                     45.000000  45.000000  \n",
       "mean         -0.090782   0.172012                      0.140549  -0.038207  \n",
       "std           0.858197   0.917692                      0.920491   1.159696  \n",
       "min          -1.299201  -2.009944                     -1.738540  -1.561362  \n",
       "25%          -0.777531  -0.289611                     -0.437419  -0.892886  \n",
       "50%          -0.088927   0.398522                      0.351559  -0.297214  \n",
       "75%           0.307542   0.742589                      0.822177   0.976862  \n",
       "max           2.373354   1.860805                      1.708046   3.078261  "
      ]
     },
     "execution_count": 127,
     "metadata": {},
     "output_type": "execute_result"
    }
   ],
   "source": [
    "X_test.describe()"
   ]
  },
  {
   "cell_type": "code",
   "execution_count": 128,
   "metadata": {},
   "outputs": [
    {
     "data": {
      "image/png": "[encoded data removed]",
      "text/plain": [
       "<Figure size 1152x864 with 16 Axes>"
      ]
     },
     "metadata": {
      "needs_background": "light"
     },
     "output_type": "display_data"
    }
   ],
   "source": [
    "_ = X_train.hist(figsize=(16, 12))"
   ]
  },
  {
   "cell_type": "markdown",
   "metadata": {},
   "source": [
    "Похоже на правду"
   ]
  },
  {
   "cell_type": "markdown",
   "metadata": {},
   "source": [
    "## Создаем модель"
   ]
  },
  {
   "cell_type": "code",
   "execution_count": 159,
   "metadata": {},
   "outputs": [],
   "source": [
    "model = Sequential([\n",
    "    Flatten(),\n",
    "    # Dense(13, activation='relu'),\n",
    "    Dense(128, activation='tanh'),\n",
    "    Dense(128, activation='relu'),\n",
    "    Dense(3, activation='softmax')\n",
    "])"
   ]
  },
  {
   "cell_type": "code",
   "execution_count": 160,
   "metadata": {},
   "outputs": [],
   "source": [
    "model.compile(loss='categorical_crossentropy', optimizer='adam', metrics=['accuracy'])"
   ]
  },
  {
   "cell_type": "markdown",
   "metadata": {},
   "source": [
    "## Обучим"
   ]
  },
  {
   "cell_type": "code",
   "execution_count": 161,
   "metadata": {},
   "outputs": [
    {
     "name": "stdout",
     "output_type": "stream",
     "text": [
      "Epoch 1/20\n",
      "5/5 [==============================] - 0s 2ms/step - loss: 1.0677 - accuracy: 0.4211\n",
      "Epoch 2/20\n",
      "5/5 [==============================] - 0s 2ms/step - loss: 0.5623 - accuracy: 0.9398\n",
      "Epoch 3/20\n",
      "5/5 [==============================] - 0s 2ms/step - loss: 0.3251 - accuracy: 0.9624\n",
      "Epoch 4/20\n",
      "5/5 [==============================] - 0s 2ms/step - loss: 0.2070 - accuracy: 0.9774\n",
      "Epoch 5/20\n",
      "5/5 [==============================] - 0s 2ms/step - loss: 0.1391 - accuracy: 0.9850\n",
      "Epoch 6/20\n",
      "5/5 [==============================] - 0s 1ms/step - loss: 0.1028 - accuracy: 0.9925\n",
      "Epoch 7/20\n",
      "5/5 [==============================] - 0s 5ms/step - loss: 0.0793 - accuracy: 0.9925\n",
      "Epoch 8/20\n",
      "5/5 [==============================] - 0s 3ms/step - loss: 0.0648 - accuracy: 0.9925\n",
      "Epoch 9/20\n",
      "5/5 [==============================] - 0s 2ms/step - loss: 0.0548 - accuracy: 0.9925\n",
      "Epoch 10/20\n",
      "5/5 [==============================] - 0s 2ms/step - loss: 0.0484 - accuracy: 0.9925\n",
      "Epoch 11/20\n",
      "5/5 [==============================] - 0s 2ms/step - loss: 0.0419 - accuracy: 0.9925\n",
      "Epoch 12/20\n",
      "5/5 [==============================] - 0s 1ms/step - loss: 0.0374 - accuracy: 0.9925\n",
      "Epoch 13/20\n",
      "5/5 [==============================] - 0s 2ms/step - loss: 0.0339 - accuracy: 0.9925\n",
      "Epoch 14/20\n",
      "5/5 [==============================] - 0s 2ms/step - loss: 0.0303 - accuracy: 0.9925\n",
      "Epoch 15/20\n",
      "5/5 [==============================] - 0s 2ms/step - loss: 0.0287 - accuracy: 0.9925\n",
      "Epoch 16/20\n",
      "5/5 [==============================] - 0s 2ms/step - loss: 0.0260 - accuracy: 0.9925\n",
      "Epoch 17/20\n",
      "5/5 [==============================] - 0s 2ms/step - loss: 0.0241 - accuracy: 0.9925\n",
      "Epoch 18/20\n",
      "5/5 [==============================] - 0s 2ms/step - loss: 0.0221 - accuracy: 1.0000\n",
      "Epoch 19/20\n",
      "5/5 [==============================] - 0s 2ms/step - loss: 0.0205 - accuracy: 1.0000\n",
      "Epoch 20/20\n",
      "5/5 [==============================] - 0s 3ms/step - loss: 0.0189 - accuracy: 1.0000\n"
     ]
    },
    {
     "data": {
      "text/plain": [
       "<keras.callbacks.History at 0x7f7b8ef7e1f0>"
      ]
     },
     "execution_count": 161,
     "metadata": {},
     "output_type": "execute_result"
    }
   ],
   "source": [
    "model.fit(X_train, \n",
    "          y_train,\n",
    "          epochs=20,\n",
    "          batch_size=32\n",
    "         )"
   ]
  },
  {
   "cell_type": "markdown",
   "metadata": {
    "tags": []
   },
   "source": [
    "## Оценим"
   ]
  },
  {
   "cell_type": "code",
   "execution_count": 162,
   "metadata": {},
   "outputs": [
    {
     "name": "stdout",
     "output_type": "stream",
     "text": [
      "2/2 [==============================] - 0s 2ms/step - loss: 0.0145 - accuracy: 1.0000\n"
     ]
    },
    {
     "data": {
      "text/plain": [
       "[0.014548389241099358, 1.0]"
      ]
     },
     "execution_count": 162,
     "metadata": {},
     "output_type": "execute_result"
    }
   ],
   "source": [
    "# Evaluate the model.\n",
    "model.evaluate(\n",
    "  X_test,\n",
    "  y_test\n",
    ")"
   ]
  },
  {
   "cell_type": "markdown",
   "metadata": {},
   "source": [
    "Хорошая точность. Сравним с logreg или бустингом"
   ]
  },
  {
   "cell_type": "markdown",
   "metadata": {},
   "source": [
    "## LogReg"
   ]
  },
  {
   "cell_type": "code",
   "execution_count": 171,
   "metadata": {},
   "outputs": [],
   "source": [
    "from sklearn.linear_model import LogisticRegression\n",
    "from sklearn.multiclass import OneVsRestClassifier\n",
    "from sklearn.metrics import accuracy_score"
   ]
  },
  {
   "cell_type": "code",
   "execution_count": 167,
   "metadata": {},
   "outputs": [],
   "source": [
    "lg = OneVsRestClassifier(LogisticRegression(random_state=42))"
   ]
  },
  {
   "cell_type": "code",
   "execution_count": 168,
   "metadata": {},
   "outputs": [
    {
     "data": {
      "text/plain": [
       "OneVsRestClassifier(estimator=LogisticRegression(random_state=42))"
      ]
     },
     "execution_count": 168,
     "metadata": {},
     "output_type": "execute_result"
    }
   ],
   "source": [
    "lg.fit(X_train, y_train)"
   ]
  },
  {
   "cell_type": "code",
   "execution_count": 172,
   "metadata": {},
   "outputs": [],
   "source": [
    "pred = lg.predict(X_test)"
   ]
  },
  {
   "cell_type": "code",
   "execution_count": null,
   "metadata": {},
   "outputs": [
    {
     "data": {
      "text/plain": [
       "1.0"
      ]
     },
     "execution_count": 173,
     "metadata": {},
     "output_type": "execute_result"
    }
   ],
   "source": [
    "accuracy_score(y_test, pred)"
   ]
  },
  {
   "cell_type": "markdown",
   "metadata": {},
   "source": [
    "В пригнципе логрег тоже справился на изи"
   ]
  },
  {
   "cell_type": "markdown",
   "metadata": {},
   "source": [
    "## LightGBM"
   ]
  },
  {
   "cell_type": "code",
   "execution_count": 175,
   "metadata": {},
   "outputs": [],
   "source": [
    "from lightgbm import LGBMClassifier"
   ]
  },
  {
   "cell_type": "code",
   "execution_count": 228,
   "metadata": {},
   "outputs": [],
   "source": [
    "lgbm = OneVsRestClassifier(LGBMClassifier(random_state=42, \n",
    "                                         max_depth=8,\n",
    "                                          n_estimators=200,\n",
    "                                          # learning_rate=0.05,\n",
    "                                         ))"
   ]
  },
  {
   "cell_type": "code",
   "execution_count": 229,
   "metadata": {},
   "outputs": [
    {
     "data": {
      "text/plain": [
       "OneVsRestClassifier(estimator=LGBMClassifier(max_depth=8, n_estimators=200,\n",
       "                                             random_state=42))"
      ]
     },
     "execution_count": 229,
     "metadata": {},
     "output_type": "execute_result"
    }
   ],
   "source": [
    "lgbm.fit(X_train, y_train)"
   ]
  },
  {
   "cell_type": "code",
   "execution_count": 230,
   "metadata": {},
   "outputs": [],
   "source": [
    "pred = lgbm.predict(X_test)"
   ]
  },
  {
   "cell_type": "code",
   "execution_count": 231,
   "metadata": {},
   "outputs": [
    {
     "data": {
      "text/plain": [
       "0.9555555555555556"
      ]
     },
     "execution_count": 231,
     "metadata": {},
     "output_type": "execute_result"
    }
   ],
   "source": [
    "accuracy_score(y_test, pred)"
   ]
  },
  {
   "cell_type": "markdown",
   "metadata": {},
   "source": [
    "Бустинг уже на изи не справляется. Мне сложно сказать почему."
   ]
  },
  {
   "cell_type": "code",
   "execution_count": null,
   "metadata": {},
   "outputs": [],
   "source": []
  },
  {
   "cell_type": "code",
   "execution_count": null,
   "metadata": {},
   "outputs": [],
   "source": []
  },
  {
   "cell_type": "code",
   "execution_count": null,
   "metadata": {},
   "outputs": [],
   "source": []
  },
  {
   "cell_type": "code",
   "execution_count": null,
   "metadata": {},
   "outputs": [],
   "source": []
  },
  {
   "cell_type": "markdown",
   "metadata": {
    "id": "gAqpMfDiSkZ5"
   },
   "source": [
    "# Датасет с рукописными буквами"
   ]
  },
  {
   "cell_type": "markdown",
   "metadata": {
    "id": "m5rHCIuXVrmj"
   },
   "source": [
    "https://www.tensorflow.org/datasets/catalog/binary_alpha_digits"
   ]
  },
  {
   "cell_type": "code",
   "execution_count": 65,
   "metadata": {
    "id": "hzxgDKJvUzo9"
   },
   "outputs": [],
   "source": [
    "import matplotlib.pyplot as plt\n",
    "import numpy as np"
   ]
  },
  {
   "cell_type": "code",
   "execution_count": 66,
   "metadata": {},
   "outputs": [],
   "source": [
    "classes = [str(i) for i in range(10)] +  list('ABCDEFGHIJKLMNOPQRSTUVWXYZ')"
   ]
  },
  {
   "cell_type": "code",
   "execution_count": 67,
   "metadata": {},
   "outputs": [
    {
     "data": {
      "text/plain": [
       "36"
      ]
     },
     "execution_count": 67,
     "metadata": {},
     "output_type": "execute_result"
    }
   ],
   "source": [
    "len(classes)"
   ]
  },
  {
   "cell_type": "code",
   "execution_count": 72,
   "metadata": {
    "id": "OMHXQi0ZSimY"
   },
   "outputs": [
    {
     "name": "stdout",
     "output_type": "stream",
     "text": [
      "['0', '1', '2', '3', '4', '5', '6', '7', '8', '9', 'A', 'B', 'C', 'D', 'E', 'F', 'G', 'H', 'I', 'J', 'K', 'L', 'M', 'N', 'O', 'P', 'Q', 'R', 'S', 'T', 'U', 'V', 'W', 'X', 'Y', 'Z']\n"
     ]
    }
   ],
   "source": [
    "classes = [str(i) for i in range(10)] +  list('ABCDEFGHIJKLMNOPQRSTUVWXYZ')\n",
    "print(classes)\n",
    "\n",
    "X = np.load('binary_alpha_digits_images.npy')\n",
    "y = np.load('binary_alpha_digits_labels.npy')"
   ]
  },
  {
   "cell_type": "code",
   "execution_count": 73,
   "metadata": {},
   "outputs": [
    {
     "data": {
      "text/plain": [
       "26"
      ]
     },
     "execution_count": 73,
     "metadata": {},
     "output_type": "execute_result"
    }
   ],
   "source": [
    "len(list('ABCDEFGHIJKLMNOPQRSTUVWXYZ'))"
   ]
  },
  {
   "cell_type": "code",
   "execution_count": 74,
   "metadata": {
    "id": "-KABm1zlKMi-"
   },
   "outputs": [
    {
     "data": {
      "text/plain": [
       "((1404, 20, 16), (1404,))"
      ]
     },
     "execution_count": 74,
     "metadata": {},
     "output_type": "execute_result"
    }
   ],
   "source": [
    "X.shape, y.shape"
   ]
  },
  {
   "cell_type": "code",
   "execution_count": 78,
   "metadata": {},
   "outputs": [
    {
     "data": {
      "text/plain": [
       "array([33, 21, 16, 26, 23, 10,  7, 19, 24, 10])"
      ]
     },
     "execution_count": 78,
     "metadata": {},
     "output_type": "execute_result"
    }
   ],
   "source": [
    "y[:10]"
   ]
  },
  {
   "cell_type": "code",
   "execution_count": 75,
   "metadata": {
    "id": "4nmyuGLyC3W9"
   },
   "outputs": [
    {
     "data": {
      "image/png": "[encoded data removed]",
      "text/plain": [
       "<Figure size 720x360 with 15 Axes>"
      ]
     },
     "metadata": {},
     "output_type": "display_data"
    }
   ],
   "source": [
    "fig, axes = plt.subplots(3, 5, figsize=(10, 5))\n",
    "fig.suptitle('binary alpha digits', fontsize=20)\n",
    "n = 0\n",
    "for ax in axes.flat:\n",
    "    ax.set_yticks([])\n",
    "    ax.set_xticks([])\n",
    "    ax.imshow(X[n], cmap=plt.cm.binary)\n",
    "    ax.set_xlabel(classes[y[n]])\n",
    "    n += 1"
   ]
  },
  {
   "cell_type": "code",
   "execution_count": null,
   "metadata": {
    "id": "mP7Xm1Za-Bxw"
   },
   "outputs": [],
   "source": []
  }
 ],
 "metadata": {
  "accelerator": "GPU",
  "colab": {
   "collapsed_sections": [],
   "name": "Lesson 3.ipynb",
   "provenance": []
  },
  "kernelspec": {
   "display_name": "Python 3 (ipykernel)",
   "language": "python",
   "name": "python3"
  },
  "language_info": {
   "codemirror_mode": {
    "name": "ipython",
    "version": 3
   },
   "file_extension": ".py",
   "mimetype": "text/x-python",
   "name": "python",
   "nbconvert_exporter": "python",
   "pygments_lexer": "ipython3",
   "version": "3.9.12"
  }
 },
 "nbformat": 4,
 "nbformat_minor": 4
}
