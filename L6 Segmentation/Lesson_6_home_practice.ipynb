{
 "cells": [
  {
   "cell_type": "markdown",
   "metadata": {
    "id": "MBY6WZHNU2Ap"
   },
   "source": [
    "# Подготовка библиотек"
   ]
  },
  {
   "cell_type": "code",
   "execution_count": 1,
   "metadata": {
    "id": "_NBAv0Lk_JiR"
   },
   "outputs": [
    {
     "name": "stdout",
     "output_type": "stream",
     "text": [
      "Cloning into 'clothing-co-parsing'...\n",
      "remote: Enumerating objects: 4234, done.\u001b[K\n",
      "remote: Total 4234 (delta 0), reused 0 (delta 0), pack-reused 4234\u001b[K\n",
      "Receiving objects: 100% (4234/4234), 124.59 MiB | 854.00 KiB/s, done.\n",
      "Resolving deltas: 100% (1100/1100), done.\n",
      "Updating files: 100% (4202/4202), done.\n"
     ]
    }
   ],
   "source": [
    "# !git clone https://github.com/bearpaw/clothing-co-parsing.git"
   ]
  },
  {
   "cell_type": "code",
   "execution_count": 2,
   "metadata": {
    "id": "GH--hMAO-3UZ",
    "scrolled": true
   },
   "outputs": [],
   "source": [
    "import tensorflow as tf\n",
    "from tensorflow.keras.utils import load_img, img_to_array\n",
    "\n",
    "import matplotlib.pyplot as plt\n",
    "import os\n",
    "from scipy import io\n",
    "from sklearn.model_selection import train_test_split"
   ]
  },
  {
   "cell_type": "markdown",
   "metadata": {},
   "source": [
    "# Проверить устройства для кераса"
   ]
  },
  {
   "cell_type": "code",
   "execution_count": 4,
   "metadata": {},
   "outputs": [
    {
     "name": "stdout",
     "output_type": "stream",
     "text": [
      "[name: \"/device:CPU:0\"\n",
      "device_type: \"CPU\"\n",
      "memory_limit: 268435456\n",
      "locality {\n",
      "}\n",
      "incarnation: 11283811861863816198\n",
      "xla_global_id: -1\n",
      "]\n"
     ]
    }
   ],
   "source": [
    "from tensorflow.python.client import device_lib\n",
    "print(device_lib.list_local_devices())"
   ]
  },
  {
   "cell_type": "markdown",
   "metadata": {
    "id": "xBdCVgw_VNkK"
   },
   "source": [
    "# Функции для визуализации"
   ]
  },
  {
   "cell_type": "code",
   "execution_count": 5,
   "metadata": {
    "id": "b4KUA7PDVQJv"
   },
   "outputs": [],
   "source": [
    "def display(display_list):\n",
    "    title = ['Input Image', 'True Mask', 'Predicted Mask']\n",
    "\n",
    "    plt.figure(figsize=(15, 15))\n",
    "    for i in range(len(display_list)):\n",
    "        plt.subplot(1, len(display_list), i+1)\n",
    "        plt.title(title[i])\n",
    "        plt.imshow(tf.keras.preprocessing.image.array_to_img(display_list[i]))\n",
    "        plt.axis('off')\n",
    "    plt.show()\n",
    "\n",
    "def create_mask(pred_mask):\n",
    "    pred_mask = tf.argmax(pred_mask, axis=-1)\n",
    "    pred_mask = pred_mask[..., tf.newaxis]\n",
    "    return pred_mask[0]\n",
    "\n",
    "def show_predictions(model, dataset=None, num=1):\n",
    "    if dataset:\n",
    "        for image, mask in dataset.take(num):\n",
    "            pred_mask = model.predict(image)\n",
    "            display([image[0], mask[0], create_mask(pred_mask)])\n",
    "    else:\n",
    "        display([sample_image, sample_mask,\n",
    "             create_mask(model.predict(sample_image[tf.newaxis, ...]))])"
   ]
  },
  {
   "cell_type": "markdown",
   "metadata": {
    "id": "pRHnOaKDVDB4"
   },
   "source": [
    "# Загрузка датасета и обработка"
   ]
  },
  {
   "cell_type": "code",
   "execution_count": 11,
   "metadata": {
    "id": "MfUa1DoS_CeK"
   },
   "outputs": [],
   "source": [
    "DATASET_PATH = 'clothing-co-parsing/photos/'\n",
    "MASKS_PATH = 'clothing-co-parsing/annotations/pixel-level/'"
   ]
  },
  {
   "cell_type": "code",
   "execution_count": 7,
   "metadata": {
    "id": "FAXq9DO4_M3H"
   },
   "outputs": [],
   "source": [
    "def preprocess_image(image):\n",
    "    image = tf.cast(image, tf.float32)\n",
    "    # scale values to [0,1]\n",
    "    image = image/255.0\n",
    "    # resize image\n",
    "    image = tf.image.resize(image, (128,128))\n",
    "    return image \n",
    "     \n",
    "\n",
    "def preprocess_mask(mask):\n",
    "    mask = tf.expand_dims(mask, axis=-1)\n",
    "    mask = tf.image.resize(mask, (128,128))\n",
    "    # будем использовать бинарную классификацию - фон и человек\n",
    "    # для этого фон, закодированный нулем, оставим нулевым\n",
    "    # все остальное будет равно единице\n",
    "    mask = tf.cast(mask != 0, tf.uint8)\n",
    "    return mask  "
   ]
  },
  {
   "cell_type": "code",
   "execution_count": 12,
   "metadata": {
    "id": "Q0cheAm9U2q4"
   },
   "outputs": [],
   "source": [
    "images = []\n",
    "masks = []\n",
    "\n",
    "for mask_filename in os.listdir(MASKS_PATH):\n",
    "    image_filename = mask_filename[:-4] + '.jpg'\n",
    "    image = img_to_array(load_img(DATASET_PATH + image_filename))\n",
    "    images.append(preprocess_image(image))\n",
    "\n",
    "    mask_file = io.loadmat(MASKS_PATH + mask_filename)\n",
    "    mask = tf.convert_to_tensor(mask_file['groundtruth']) \n",
    "    masks.append(preprocess_mask(mask))"
   ]
  },
  {
   "cell_type": "code",
   "execution_count": 13,
   "metadata": {
    "id": "t_lTXebrVHCZ"
   },
   "outputs": [],
   "source": [
    "train_X, test_X, train_Y, test_Y = train_test_split(images, masks,\\\n",
    "                                                 test_size=0.2, random_state=0)\n",
    "sample_image, sample_mask = train_X[0], train_Y[0]\n",
    "\n",
    "train_X = tf.data.Dataset.from_tensor_slices(train_X)\n",
    "test_X = tf.data.Dataset.from_tensor_slices(test_X)\n",
    "train_Y = tf.data.Dataset.from_tensor_slices(train_Y)\n",
    "test_Y = tf.data.Dataset.from_tensor_slices(test_Y)\n",
    "\n",
    "train = tf.data.Dataset.zip((train_X, train_Y))\n",
    "test = tf.data.Dataset.zip((test_X, test_Y)) "
   ]
  },
  {
   "cell_type": "code",
   "execution_count": 15,
   "metadata": {
    "id": "tiXWJRQbZgA0"
   },
   "outputs": [],
   "source": [
    "# функции для аугментации \n",
    "\n",
    "# яркость\n",
    "def brightness(img, mask):\n",
    "    img = tf.image.adjust_brightness(img, 0.1)\n",
    "    return img, mask\n",
    "\n",
    "# оттенок\n",
    "def hue(img, mask):\n",
    "    img = tf.image.adjust_hue(img, -0.1)\n",
    "    return img, mask\n",
    "\n",
    "# отзеркаливание по горизонтали\n",
    "def flip_horisontal(img, mask):\n",
    "    img = tf.image.flip_left_right(img)\n",
    "    mask = tf.image.flip_left_right(mask)\n",
    "    return img, mask"
   ]
  },
  {
   "cell_type": "code",
   "execution_count": 16,
   "metadata": {
    "id": "RwKfwRYGappc"
   },
   "outputs": [],
   "source": [
    "# последовательно применяем аугментации\n",
    "train = train.concatenate(train.map(brightness))\n",
    "train = train.concatenate(train.map(hue))\n",
    "train = train.concatenate(train.map(flip_horisontal))"
   ]
  },
  {
   "cell_type": "code",
   "execution_count": 17,
   "metadata": {
    "colab": {
     "base_uri": "https://localhost:8080/"
    },
    "id": "1B2aZCyjcAwv",
    "outputId": "47d41767-2831-4a55-e3eb-3fde31e4678f"
   },
   "outputs": [
    {
     "data": {
      "text/plain": [
       "6424"
      ]
     },
     "execution_count": 17,
     "metadata": {},
     "output_type": "execute_result"
    }
   ],
   "source": [
    "len(train)"
   ]
  },
  {
   "cell_type": "code",
   "execution_count": 18,
   "metadata": {
    "id": "7bKUzjUFU7Jc"
   },
   "outputs": [],
   "source": [
    "BATCH_SIZE = 32\n",
    "BUFFER_SIZE = 500\n",
    "train = train.cache().shuffle(BUFFER_SIZE).batch(BATCH_SIZE)\n",
    "train = train.prefetch(buffer_size=BUFFER_SIZE)\n",
    "test = test.batch(BATCH_SIZE) "
   ]
  },
  {
   "cell_type": "markdown",
   "metadata": {
    "id": "Su97HsPtdT-A"
   },
   "source": [
    "далее обучайте на датасете train, для валидации используйте датасет test аналогично как на занятии"
   ]
  },
  {
   "cell_type": "code",
   "execution_count": 25,
   "metadata": {},
   "outputs": [
    {
     "data": {
      "text/plain": [
       "<TakeDataset element_spec=(TensorSpec(shape=(None, 128, 128, 3), dtype=tf.float32, name=None), TensorSpec(shape=(None, 128, 128, 1), dtype=tf.uint8, name=None))>"
      ]
     },
     "execution_count": 25,
     "metadata": {},
     "output_type": "execute_result"
    }
   ],
   "source": [
    "train.take(0)"
   ]
  },
  {
   "cell_type": "code",
   "execution_count": 28,
   "metadata": {},
   "outputs": [
    {
     "name": "stderr",
     "output_type": "stream",
     "text": [
      "2022-07-08 12:52:44.938090: W tensorflow/core/kernels/data/cache_dataset_ops.cc:856] The calling iterator did not fully read the dataset being cached. In order to avoid unexpected truncation of the dataset, the partially cached contents of the dataset  will be discarded. This can happen if you have an input pipeline similar to `dataset.cache().take(k).repeat()`. You should use `dataset.take(k).cache().repeat()` instead.\n"
     ]
    }
   ],
   "source": [
    "sample_image, sample_mask = next(iter(train.take(1).cache().repeat()))"
   ]
  },
  {
   "cell_type": "code",
   "execution_count": 29,
   "metadata": {},
   "outputs": [
    {
     "ename": "ValueError",
     "evalue": "Expected image array to have rank 3 (single image). Got array with shape: (32, 128, 128, 3)",
     "output_type": "error",
     "traceback": [
      "\u001b[0;31m---------------------------------------------------------------------------\u001b[0m",
      "\u001b[0;31mValueError\u001b[0m                                Traceback (most recent call last)",
      "Input \u001b[0;32mIn [29]\u001b[0m, in \u001b[0;36m<cell line: 1>\u001b[0;34m()\u001b[0m\n\u001b[0;32m----> 1\u001b[0m \u001b[43mdisplay\u001b[49m\u001b[43m(\u001b[49m\u001b[43m[\u001b[49m\u001b[43msample_image\u001b[49m\u001b[43m,\u001b[49m\u001b[43m \u001b[49m\u001b[43msample_mask\u001b[49m\u001b[43m]\u001b[49m\u001b[43m)\u001b[49m\n",
      "Input \u001b[0;32mIn [5]\u001b[0m, in \u001b[0;36mdisplay\u001b[0;34m(display_list)\u001b[0m\n\u001b[1;32m      6\u001b[0m     plt\u001b[38;5;241m.\u001b[39msubplot(\u001b[38;5;241m1\u001b[39m, \u001b[38;5;28mlen\u001b[39m(display_list), i\u001b[38;5;241m+\u001b[39m\u001b[38;5;241m1\u001b[39m)\n\u001b[1;32m      7\u001b[0m     plt\u001b[38;5;241m.\u001b[39mtitle(title[i])\n\u001b[0;32m----> 8\u001b[0m     plt\u001b[38;5;241m.\u001b[39mimshow(\u001b[43mtf\u001b[49m\u001b[38;5;241;43m.\u001b[39;49m\u001b[43mkeras\u001b[49m\u001b[38;5;241;43m.\u001b[39;49m\u001b[43mpreprocessing\u001b[49m\u001b[38;5;241;43m.\u001b[39;49m\u001b[43mimage\u001b[49m\u001b[38;5;241;43m.\u001b[39;49m\u001b[43marray_to_img\u001b[49m\u001b[43m(\u001b[49m\u001b[43mdisplay_list\u001b[49m\u001b[43m[\u001b[49m\u001b[43mi\u001b[49m\u001b[43m]\u001b[49m\u001b[43m)\u001b[49m)\n\u001b[1;32m      9\u001b[0m     plt\u001b[38;5;241m.\u001b[39maxis(\u001b[38;5;124m'\u001b[39m\u001b[38;5;124moff\u001b[39m\u001b[38;5;124m'\u001b[39m)\n\u001b[1;32m     10\u001b[0m plt\u001b[38;5;241m.\u001b[39mshow()\n",
      "File \u001b[0;32m~/opt/anaconda3/lib/python3.9/site-packages/keras/utils/image_utils.py:226\u001b[0m, in \u001b[0;36marray_to_img\u001b[0;34m(x, data_format, scale, dtype)\u001b[0m\n\u001b[1;32m    224\u001b[0m x \u001b[38;5;241m=\u001b[39m np\u001b[38;5;241m.\u001b[39masarray(x, dtype\u001b[38;5;241m=\u001b[39mdtype)\n\u001b[1;32m    225\u001b[0m \u001b[38;5;28;01mif\u001b[39;00m x\u001b[38;5;241m.\u001b[39mndim \u001b[38;5;241m!=\u001b[39m \u001b[38;5;241m3\u001b[39m:\n\u001b[0;32m--> 226\u001b[0m   \u001b[38;5;28;01mraise\u001b[39;00m \u001b[38;5;167;01mValueError\u001b[39;00m(\u001b[38;5;124m'\u001b[39m\u001b[38;5;124mExpected image array to have rank 3 (single image). \u001b[39m\u001b[38;5;124m'\u001b[39m\n\u001b[1;32m    227\u001b[0m                    \u001b[38;5;124mf\u001b[39m\u001b[38;5;124m'\u001b[39m\u001b[38;5;124mGot array with shape: \u001b[39m\u001b[38;5;132;01m{\u001b[39;00mx\u001b[38;5;241m.\u001b[39mshape\u001b[38;5;132;01m}\u001b[39;00m\u001b[38;5;124m'\u001b[39m)\n\u001b[1;32m    229\u001b[0m \u001b[38;5;28;01mif\u001b[39;00m data_format \u001b[38;5;129;01mnot\u001b[39;00m \u001b[38;5;129;01min\u001b[39;00m {\u001b[38;5;124m'\u001b[39m\u001b[38;5;124mchannels_first\u001b[39m\u001b[38;5;124m'\u001b[39m, \u001b[38;5;124m'\u001b[39m\u001b[38;5;124mchannels_last\u001b[39m\u001b[38;5;124m'\u001b[39m}:\n\u001b[1;32m    230\u001b[0m   \u001b[38;5;28;01mraise\u001b[39;00m \u001b[38;5;167;01mValueError\u001b[39;00m(\u001b[38;5;124mf\u001b[39m\u001b[38;5;124m'\u001b[39m\u001b[38;5;124mInvalid data_format: \u001b[39m\u001b[38;5;132;01m{\u001b[39;00mdata_format\u001b[38;5;132;01m}\u001b[39;00m\u001b[38;5;124m'\u001b[39m)\n",
      "\u001b[0;31mValueError\u001b[0m: Expected image array to have rank 3 (single image). Got array with shape: (32, 128, 128, 3)"
     ]
    },
    {
     "data": {
      "image/png": "[encoded data removed]",
      "text/plain": [
       "<Figure size 1080x1080 with 1 Axes>"
      ]
     },
     "metadata": {
      "needs_background": "light"
     },
     "output_type": "display_data"
    }
   ],
   "source": [
    "display([sample_image, sample_mask])"
   ]
  },
  {
   "cell_type": "code",
   "execution_count": null,
   "metadata": {},
   "outputs": [],
   "source": []
  }
 ],
 "metadata": {
  "accelerator": "GPU",
  "colab": {
   "name": "Lesson 6 - home practice.ipynb",
   "provenance": []
  },
  "kernelspec": {
   "display_name": "Python 3 (ipykernel)",
   "language": "python",
   "name": "python3"
  },
  "language_info": {
   "codemirror_mode": {
    "name": "ipython",
    "version": 3
   },
   "file_extension": ".py",
   "mimetype": "text/x-python",
   "name": "python",
   "nbconvert_exporter": "python",
   "pygments_lexer": "ipython3",
   "version": "3.9.12"
  }
 },
 "nbformat": 4,
 "nbformat_minor": 4
}
